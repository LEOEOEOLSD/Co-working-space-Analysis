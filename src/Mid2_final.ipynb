{
  "cells": [
    {
      "cell_type": "markdown",
      "id": "64af38a6",
      "metadata": {
        "id": "64af38a6"
      },
      "source": [
        "# 공유오피스 데이터 분석 (머신러닝)\n",
        "    - 공유오피스 데이터 기반 데이터 분석\n",
        "\n",
        "## 분석 목표\n",
        "    - 유저의 방문기록을 바탕으로 최종 결제를 진행했는지에 대한 모델링\n",
        "    - 이를 통한 비즈니스 전략을 제안하는 것이 목표"
      ]
    },
    {
      "cell_type": "markdown",
      "id": "64d7d48e",
      "metadata": {
        "id": "64d7d48e"
      },
      "source": [
        "## 환경설정"
      ]
    },
    {
      "cell_type": "code",
      "execution_count": 1,
      "id": "7e9b34c5",
      "metadata": {
        "id": "7e9b34c5"
      },
      "outputs": [],
      "source": [
        "# ▶ 한글 폰트 설정하기\n",
        "# !pip install koreanize-matplotlib -q\n",
        "\n",
        "import pandas as pd\n",
        "import pandas as pd\n",
        "import numpy as np\n",
        "import seaborn as sns\n",
        "import matplotlib.pyplot as plt\n",
        "import koreanize_matplotlib\n",
        "\n",
        "import warnings\n",
        "warnings.filterwarnings(\"ignore\")"
      ]
    },
    {
      "cell_type": "markdown",
      "id": "f18b7415",
      "metadata": {
        "id": "f18b7415"
      },
      "source": [
        "## 데이터 불러오기"
      ]
    },
    {
      "cell_type": "code",
      "execution_count": 2,
      "id": "56d8b3d7",
      "metadata": {
        "colab": {
          "base_uri": "https://localhost:8080/",
          "height": 373
        },
        "collapsed": true,
        "id": "56d8b3d7",
        "outputId": "5c6ee8cd-ad82-42bf-9c62-209aa1b03fe5"
      },
      "outputs": [],
      "source": [
        "site_area = pd.read_csv('data/site_area.csv')\n",
        "trial_access_log = pd.read_csv('data/trial_access_log.csv')\n",
        "trial_payment = pd.read_csv('data/trial_payment.csv')\n",
        "trial_register = pd.read_csv('data/trial_register.csv')\n",
        "trial_visit_info = pd.read_csv('data/trial_visit_info.csv')"
      ]
    },
    {
      "cell_type": "markdown",
      "id": "92600f23",
      "metadata": {
        "id": "92600f23"
      },
      "source": [
        "## 한국시간으로 변환"
      ]
    },
    {
      "cell_type": "code",
      "execution_count": 3,
      "id": "5e609613",
      "metadata": {
        "id": "5e609613"
      },
      "outputs": [],
      "source": [
        "# UTC → KST 변환 함수\n",
        "def convert_utc_to_kst(df, column):\n",
        "    if column in df.columns:\n",
        "        df[column] = pd.to_datetime(df[column], errors='coerce', utc=True).dt.tz_convert('Asia/Seoul')\n",
        "    return df\n",
        "\n",
        "# 컬럼별 변환 적용\n",
        "# trial_visit_info: first_enter_time, last_leave_time\n",
        "trial_visit_info = convert_utc_to_kst(trial_visit_info, \"first_enter_time\")\n",
        "trial_visit_info = convert_utc_to_kst(trial_visit_info, \"last_leave_time\")\n",
        "\n",
        "# trial_access_log: cdate\n",
        "trial_access_log = convert_utc_to_kst(trial_access_log, \"cdate\")\n",
        "trial_access_log = convert_utc_to_kst(trial_access_log, \"open_date\")\n",
        "\n",
        "# trial_register: datetime 컬럼명 확인 후 변환 (예: register_datetime 또는 신청일 등)\n",
        "trial_register = convert_utc_to_kst(trial_register, \"register_datetime\")  # 해당 컬럼 존재 시 적용"
      ]
    },
    {
      "cell_type": "markdown",
      "id": "ef73cc73",
      "metadata": {
        "id": "ef73cc73"
      },
      "source": [
        "## 기본 EDA"
      ]
    },
    {
      "cell_type": "markdown",
      "id": "7dbcb241",
      "metadata": {
        "id": "7dbcb241"
      },
      "source": [
        "### trial_register (3일체험 신청)"
      ]
    },
    {
      "cell_type": "markdown",
      "id": "68687686",
      "metadata": {
        "id": "68687686"
      },
      "source": [
        "- 총 9,659건의 신청 중, 9,421명이 유일한 사용자\n",
        "- 중복 신청 유저 35명\n",
        "\t- 같은 날 2회 신청 -> 전산 오류\n",
        "\t\t- 28명\n",
        "\t\t- user_uuid 기준으로 trial_date 중복 제거\n",
        "\t- 다른 날 2회 신청 -> 재신청 케이스\n",
        "\t\t- 7명\n",
        "\t\t- 첫 신청 후 실제 방문하지 않고, 재신청을 통해 이용한 케이스로 보임\n",
        "\t\t\t- 가장 최근 신청 기준으로 1건만 남김"
      ]
    },
    {
      "cell_type": "code",
      "execution_count": 4,
      "id": "7f50556b",
      "metadata": {
        "colab": {
          "base_uri": "https://localhost:8080/"
        },
        "id": "7f50556b",
        "outputId": "d2d6cfa9-4d3e-4fbd-ffa2-dc9a55b76a65"
      },
      "outputs": [
        {
          "name": "stdout",
          "output_type": "stream",
          "text": [
            "<class 'pandas.core.frame.DataFrame'>\n",
            "RangeIndex: 9659 entries, 0 to 9658\n",
            "Data columns (total 2 columns):\n",
            " #   Column      Non-Null Count  Dtype \n",
            "---  ------      --------------  ----- \n",
            " 0   trial_date  9659 non-null   object\n",
            " 1   user_uuid   9659 non-null   object\n",
            "dtypes: object(2)\n",
            "memory usage: 151.1+ KB\n"
          ]
        }
      ],
      "source": [
        "trial_register.info()"
      ]
    },
    {
      "cell_type": "code",
      "execution_count": 5,
      "id": "e843e81c",
      "metadata": {
        "colab": {
          "base_uri": "https://localhost:8080/"
        },
        "id": "e843e81c",
        "outputId": "fed7ada3-d298-400d-f45a-b794f2916ae5"
      },
      "outputs": [
        {
          "data": {
            "text/plain": [
              "9624"
            ]
          },
          "execution_count": 5,
          "metadata": {},
          "output_type": "execute_result"
        }
      ],
      "source": [
        "trial_register['user_uuid'].nunique()"
      ]
    },
    {
      "cell_type": "code",
      "execution_count": 6,
      "id": "3304a66b",
      "metadata": {
        "colab": {
          "base_uri": "https://localhost:8080/"
        },
        "id": "3304a66b",
        "outputId": "3fe6355e-e5b0-4b95-e23f-099e00038f7b"
      },
      "outputs": [
        {
          "name": "stdout",
          "output_type": "stream",
          "text": [
            "✅ 같은 날 2회 신청\n",
            " - 유저 수: 28\n",
            " - 중복 신청 건수: 56\n",
            "\n",
            "✅ 서로 다른 날에 2회 신청\n",
            " - 유저 수: 7\n",
            " - 중복 신청 건수: 14\n"
          ]
        }
      ],
      "source": [
        "# 1. 중복 신청한 유저만 추출\n",
        "dupe_users = trial_register[trial_register['user_uuid'].duplicated(keep=False)]\n",
        "\n",
        "# 2. 유저별 신청일 수 계산\n",
        "user_trial_dates = dupe_users.groupby('user_uuid')['trial_date'].nunique().reset_index(name='unique_dates')\n",
        "\n",
        "# 3. 같은 날 중복 신청자\n",
        "same_day_users = user_trial_dates[user_trial_dates['unique_dates'] == 1]['user_uuid']\n",
        "same_day_duplicates = dupe_users[dupe_users['user_uuid'].isin(same_day_users)]\n",
        "\n",
        "# 4. 서로 다른 날 중복 신청자\n",
        "diff_day_users = user_trial_dates[user_trial_dates['unique_dates'] > 1]['user_uuid']\n",
        "diff_day_duplicates = dupe_users[dupe_users['user_uuid'].isin(diff_day_users)]\n",
        "\n",
        "# 5. 건수 출력\n",
        "print(\"✅ 같은 날 2회 신청\")\n",
        "print(f\" - 유저 수: {same_day_users.nunique()}\")\n",
        "print(f\" - 중복 신청 건수: {same_day_duplicates.shape[0]}\")\n",
        "\n",
        "print(\"\\n✅ 서로 다른 날에 2회 신청\")\n",
        "print(f\" - 유저 수: {diff_day_users.nunique()}\")\n",
        "print(f\" - 중복 신청 건수: {diff_day_duplicates.shape[0]}\")\n"
      ]
    },
    {
      "cell_type": "code",
      "execution_count": 7,
      "id": "c90a22a2",
      "metadata": {
        "colab": {
          "base_uri": "https://localhost:8080/"
        },
        "id": "c90a22a2",
        "outputId": "95df7fb6-677f-43a7-f936-028f67bf6522"
      },
      "outputs": [
        {
          "data": {
            "text/plain": [
              "{'서로 다른 날 중복 신청 유저 수': 7, '최근 신청일 이전에 방문 기록이 있는 유저 수': 0, '비율 (%)': 0.0}"
            ]
          },
          "execution_count": 7,
          "metadata": {},
          "output_type": "execute_result"
        }
      ],
      "source": [
        "# trial_visit_info는 이미 불러온 상태이므로 복사본 사용\n",
        "visit_info = trial_visit_info.copy()\n",
        "visit_info['date'] = pd.to_datetime(visit_info['date'])\n",
        "\n",
        "# diff_day_duplicates에 해당하는 유저들의 최근 신청일 구하기\n",
        "dupe_users = trial_register[trial_register['user_uuid'].duplicated(keep=False)]\n",
        "user_trial_dates = dupe_users.groupby('user_uuid')['trial_date'].nunique().reset_index(name='unique_dates')\n",
        "diff_day_users = user_trial_dates[user_trial_dates['unique_dates'] > 1]['user_uuid']\n",
        "diff_day_duplicates = dupe_users[dupe_users['user_uuid'].isin(diff_day_users)]\n",
        "\n",
        "# 날짜 변환\n",
        "diff_day_duplicates['trial_date'] = pd.to_datetime(diff_day_duplicates['trial_date'])\n",
        "latest_trials = diff_day_duplicates.sort_values('trial_date').drop_duplicates('user_uuid', keep='last')\n",
        "\n",
        "# 해당 유저들의 최근 신청일 이전 이용기록이 있는지 확인\n",
        "latest_trials = latest_trials.rename(columns={'trial_date': 'latest_trial_date'})\n",
        "visit_info_check = pd.merge(visit_info, latest_trials, on='user_uuid', how='inner')\n",
        "\n",
        "# 최근 신청일 이전에 방문 기록이 있는 유저만 필터링\n",
        "prior_visit_exists = visit_info_check[visit_info_check['date'] < visit_info_check['latest_trial_date']]['user_uuid'].unique()\n",
        "\n",
        "# 총 중복 유저 수 대비 비율\n",
        "total_diff_day_users = latest_trials['user_uuid'].nunique()\n",
        "prior_visit_count = len(prior_visit_exists)\n",
        "\n",
        "{\n",
        "    \"서로 다른 날 중복 신청 유저 수\": total_diff_day_users,\n",
        "    \"최근 신청일 이전에 방문 기록이 있는 유저 수\": prior_visit_count,\n",
        "    \"비율 (%)\": round((prior_visit_count / total_diff_day_users) * 100, 2)\n",
        "}"
      ]
    },
    {
      "cell_type": "markdown",
      "id": "06bd9a7b",
      "metadata": {
        "id": "06bd9a7b"
      },
      "source": [
        "#### trial_register 오류값 처리"
      ]
    },
    {
      "cell_type": "markdown",
      "id": "6stY5klrjjYO",
      "metadata": {
        "id": "6stY5klrjjYO"
      },
      "source": [
        "- 중복 신청 유저 35명\n",
        "\t- 같은 날 2회 신청 -> 전산 오류\n",
        "\t\t- 28명\n",
        "\t\t- user_uuid 기준으로 trial_date 중복 제거\n",
        "\t- 다른 날 2회 신청 -> 재신청 케이스\n",
        "\t\t- 7명\n",
        "\t\t- 첫 신청 후 실제 방문하지 않고, 재신청을 통해 이용한 케이스로 보임\n",
        "\t\t\t- 가장 최근 신청 기준으로 1건만 남김"
      ]
    },
    {
      "cell_type": "code",
      "execution_count": 8,
      "id": "22110420",
      "metadata": {
        "id": "22110420"
      },
      "outputs": [],
      "source": [
        "trial_register_cleaned = trial_register.drop_duplicates(subset=['user_uuid', 'trial_date'])\n",
        "trial_register_cleaned  = trial_register_cleaned.sort_values('trial_date').drop_duplicates(subset=['user_uuid'], keep='last')"
      ]
    },
    {
      "cell_type": "code",
      "execution_count": 9,
      "id": "3f9e8929",
      "metadata": {
        "colab": {
          "base_uri": "https://localhost:8080/"
        },
        "id": "3f9e8929",
        "outputId": "9b20ba6a-e1f6-4088-b77b-2a535c311777"
      },
      "outputs": [
        {
          "data": {
            "text/plain": [
              "9624"
            ]
          },
          "execution_count": 9,
          "metadata": {},
          "output_type": "execute_result"
        }
      ],
      "source": [
        "trial_register_cleaned['user_uuid'].nunique()"
      ]
    },
    {
      "cell_type": "markdown",
      "id": "MVU_FgpPkN82",
      "metadata": {
        "id": "MVU_FgpPkN82"
      },
      "source": [
        "#### 신청월별 평균 체류시간 비교 (결제자 vs 비결제자)"
      ]
    },
    {
      "cell_type": "code",
      "execution_count": 10,
      "id": "17285d99",
      "metadata": {
        "colab": {
          "base_uri": "https://localhost:8080/",
          "height": 381
        },
        "id": "17285d99",
        "outputId": "971a1fac-d9c2-46af-e72c-0bc84ffe5d99"
      },
      "outputs": [
        {
          "data": {
            "image/png": "[encoded data removed]",
            "text/plain": [
              "<Figure size 1000x500 with 1 Axes>"
            ]
          },
          "metadata": {},
          "output_type": "display_data"
        }
      ],
      "source": [
        "# trial_register_cleaned 불러오기\n",
        "trial_register_cleaned['trial_date'] = pd.to_datetime(trial_register_cleaned['trial_date'])\n",
        "\n",
        "# 결제 여부 정보 병합\n",
        "register_with_payment = pd.merge(trial_register_cleaned, trial_payment, on='user_uuid', how='left')\n",
        "\n",
        "# 방문 기록과 병합\n",
        "visit_info = trial_visit_info.copy()\n",
        "visit_info['date'] = pd.to_datetime(visit_info['date'])\n",
        "\n",
        "# 체류시간 집계를 위해 신청일 기준으로 visit과 매핑\n",
        "register_visit_merged = pd.merge(visit_info, register_with_payment, on='user_uuid', how='inner')\n",
        "\n",
        "# 신청한 달 계산\n",
        "register_visit_merged['신청월'] = register_visit_merged['trial_date'].dt.to_period('M').astype(str)\n",
        "\n",
        "# 유저별 신청월 + 결제여부에 따른 체류시간 평균 집계\n",
        "stay_summary = register_visit_merged.groupby(['신청월', 'is_payment'])['stay_time_second'].mean().reset_index()\n",
        "\n",
        "plt.figure(figsize=(10, 5))\n",
        "sns.barplot(\n",
        "    data=stay_summary,\n",
        "    x='신청월',\n",
        "    y='stay_time_second',\n",
        "    hue=stay_summary['is_payment']\n",
        ")\n",
        "plt.title('신청월별 평균 체류시간 비교 (결제자 vs 비결제자)')\n",
        "plt.xlabel('신청월')\n",
        "plt.ylabel('평균 체류시간 (초)')\n",
        "plt.legend(title='결제 여부', labels=[0, 1])\n",
        "plt.xticks(rotation=45)\n",
        "plt.tight_layout()\n",
        "plt.show()\n"
      ]
    },
    {
      "cell_type": "code",
      "execution_count": 11,
      "id": "2601cbc2",
      "metadata": {},
      "outputs": [
        {
          "name": "stdout",
          "output_type": "stream",
          "text": [
            "15305.479238555326\n",
            "17699.663036591162\n"
          ]
        }
      ],
      "source": [
        "print(stay_summary[stay_summary['is_payment'] == 1]['stay_time_second'].median())\n",
        "\n",
        "print(stay_summary[stay_summary['is_payment'] == 0]['stay_time_second'].median())"
      ]
    },
    {
      "cell_type": "markdown",
      "id": "fd8fc24f",
      "metadata": {
        "id": "fd8fc24f"
      },
      "source": [
        "- 비결제자는 대부분의 달에서 결제자보다 평균 체류시간이 더 길었습니다."
      ]
    },
    {
      "cell_type": "markdown",
      "id": "9115afea",
      "metadata": {
        "id": "9115afea"
      },
      "source": [
        "### trial_visit_info (3일체험 신청자 일자별 방문기록)"
      ]
    },
    {
      "cell_type": "code",
      "execution_count": 12,
      "id": "96a0335c",
      "metadata": {
        "colab": {
          "base_uri": "https://localhost:8080/"
        },
        "id": "96a0335c",
        "outputId": "b7027844-e3f1-4be5-9dd1-0de937b4e769"
      },
      "outputs": [
        {
          "name": "stdout",
          "output_type": "stream",
          "text": [
            "<class 'pandas.core.frame.DataFrame'>\n",
            "RangeIndex: 11477 entries, 0 to 11476\n",
            "Data columns (total 7 columns):\n",
            " #   Column            Non-Null Count  Dtype                     \n",
            "---  ------            --------------  -----                     \n",
            " 0   site_id           11477 non-null  int64                     \n",
            " 1   date              11477 non-null  object                    \n",
            " 2   stay_time         11477 non-null  object                    \n",
            " 3   stay_time_second  11477 non-null  int64                     \n",
            " 4   first_enter_time  10124 non-null  datetime64[ns, Asia/Seoul]\n",
            " 5   last_leave_time   10147 non-null  datetime64[ns, Asia/Seoul]\n",
            " 6   user_uuid         11477 non-null  object                    \n",
            "dtypes: datetime64[ns, Asia/Seoul](2), int64(2), object(3)\n",
            "memory usage: 627.8+ KB\n"
          ]
        }
      ],
      "source": [
        "trial_visit_info.info()"
      ]
    },
    {
      "cell_type": "code",
      "execution_count": 13,
      "id": "41775eeb",
      "metadata": {
        "colab": {
          "base_uri": "https://localhost:8080/"
        },
        "id": "41775eeb",
        "outputId": "b40b0b41-9670-434a-a2f9-caa9418cc107"
      },
      "outputs": [
        {
          "data": {
            "text/plain": [
              "6534"
            ]
          },
          "execution_count": 13,
          "metadata": {},
          "output_type": "execute_result"
        }
      ],
      "source": [
        "trial_visit_info['user_uuid'].nunique()"
      ]
    },
    {
      "cell_type": "code",
      "execution_count": 14,
      "id": "662392e4",
      "metadata": {
        "colab": {
          "base_uri": "https://localhost:8080/"
        },
        "id": "662392e4",
        "outputId": "3c22d26b-8512-42e6-f8ef-a05757728e14"
      },
      "outputs": [
        {
          "data": {
            "text/plain": [
              "6026"
            ]
          },
          "execution_count": 14,
          "metadata": {},
          "output_type": "execute_result"
        }
      ],
      "source": [
        "trial_access_log['user_uuid'].nunique()"
      ]
    },
    {
      "cell_type": "code",
      "execution_count": 15,
      "id": "a5527e17",
      "metadata": {
        "colab": {
          "base_uri": "https://localhost:8080/",
          "height": 147
        },
        "id": "a5527e17",
        "outputId": "de9d20c8-5851-4910-873e-c608537b77ab"
      },
      "outputs": [
        {
          "data": {
            "text/plain": [
              "is_payment       1\n",
              "user_uuid     3652\n",
              "dtype: int64"
            ]
          },
          "execution_count": 15,
          "metadata": {},
          "output_type": "execute_result"
        }
      ],
      "source": [
        "trial_payment[trial_payment['is_payment'] == 1].nunique()"
      ]
    },
    {
      "cell_type": "code",
      "execution_count": 16,
      "id": "25bb159a",
      "metadata": {
        "colab": {
          "base_uri": "https://localhost:8080/"
        },
        "id": "25bb159a",
        "outputId": "539feeed-2d99-436c-bf0e-4f143d477022"
      },
      "outputs": [
        {
          "data": {
            "text/plain": [
              "6534"
            ]
          },
          "execution_count": 16,
          "metadata": {},
          "output_type": "execute_result"
        }
      ],
      "source": [
        "trial_visit_info['user_uuid'].nunique()"
      ]
    },
    {
      "cell_type": "code",
      "execution_count": 17,
      "id": "c631598a",
      "metadata": {
        "colab": {
          "base_uri": "https://localhost:8080/"
        },
        "id": "c631598a",
        "outputId": "ff539c71-9a7d-46b2-9075-7372cc877e44"
      },
      "outputs": [
        {
          "data": {
            "text/plain": [
              "{'30초 이하 체류 건수': 16, '24시간 이상 체류 건수': 0}"
            ]
          },
          "execution_count": 17,
          "metadata": {},
          "output_type": "execute_result"
        }
      ],
      "source": [
        "# stay_time이 30초 이하인 경우\n",
        "very_short = visit_info[visit_info['stay_time_second'] <= 30]\n",
        "\n",
        "# stay_time이 24시간(86400초) 이상인 경우\n",
        "very_long = visit_info[visit_info['stay_time_second'] >= 86400]\n",
        "\n",
        "# 건수 요약\n",
        "{\n",
        "    \"30초 이하 체류 건수\": len(very_short),\n",
        "    \"24시간 이상 체류 건수\": len(very_long)\n",
        "}"
      ]
    },
    {
      "cell_type": "markdown",
      "id": "6376c323",
      "metadata": {
        "id": "6376c323"
      },
      "source": [
        "#### 체류시간 분포"
      ]
    },
    {
      "cell_type": "code",
      "execution_count": 18,
      "id": "4056ed65",
      "metadata": {
        "colab": {
          "base_uri": "https://localhost:8080/",
          "height": 487
        },
        "id": "4056ed65",
        "outputId": "5edb00be-e5d9-4504-ba50-463e34a55782"
      },
      "outputs": [
        {
          "data": {
            "image/png": "[encoded data removed]",
            "text/plain": [
              "<Figure size 640x480 with 1 Axes>"
            ]
          },
          "metadata": {},
          "output_type": "display_data"
        }
      ],
      "source": [
        "# 시각화를 위한 데이터 복사본 생성\n",
        "eda_df = trial_visit_info.copy()\n",
        "\n",
        "# 날짜 컬럼 변환\n",
        "eda_df['date'] = pd.to_datetime(eda_df['date'])\n",
        "eda_df['weekday'] = eda_df['date'].dt.day_name()\n",
        "eda_df['month'] = eda_df['date'].dt.to_period('M')\n",
        "\n",
        "# 체류 시간 분 단위로 변환\n",
        "eda_df['stay_minutes'] = eda_df['stay_time_second'] / 60\n",
        "\n",
        "# 체류시간 분포\n",
        "fig1, ax1 = plt.subplots()\n",
        "sns.histplot(eda_df['stay_minutes'], bins=50, kde=True, ax=ax1)\n",
        "ax1.set_title('체류시간 분포 (분 단위)')\n",
        "ax1.set_xlabel('체류 시간 (분)')\n",
        "ax1.set_ylabel('빈도')\n",
        "\n",
        "plt.tight_layout()\n",
        "plt.show()"
      ]
    },
    {
      "cell_type": "markdown",
      "id": "67d79ee4",
      "metadata": {
        "id": "67d79ee4"
      },
      "source": [
        "- 대부분의 이용자는 30분에서 3시간 사이에 체류하는 것으로 나타났습니다.\n",
        "- 일부 이용자는 4시간 이상 장시간 체류하는 경우도 있었습니다."
      ]
    },
    {
      "cell_type": "markdown",
      "id": "7WsFURQskYwA",
      "metadata": {
        "id": "7WsFURQskYwA"
      },
      "source": [
        "#### 요일별 방문 수"
      ]
    },
    {
      "cell_type": "code",
      "execution_count": 19,
      "id": "2ac35e1b",
      "metadata": {
        "colab": {
          "base_uri": "https://localhost:8080/",
          "height": 487
        },
        "id": "2ac35e1b",
        "outputId": "2438d4d3-06fa-4011-a91f-f2799f0d4164"
      },
      "outputs": [
        {
          "data": {
            "image/png": "[encoded data removed]",
            "text/plain": [
              "<Figure size 640x480 with 1 Axes>"
            ]
          },
          "metadata": {},
          "output_type": "display_data"
        }
      ],
      "source": [
        "fig2, ax2 = plt.subplots()\n",
        "sns.countplot(x='weekday', data=eda_df, order=['Monday', 'Tuesday', 'Wednesday', 'Thursday', 'Friday', 'Saturday', 'Sunday'], ax=ax2)\n",
        "ax2.set_title('요일별 방문 수')\n",
        "ax2.set_xlabel('요일')\n",
        "ax2.set_ylabel('방문 수')\n",
        "\n",
        "plt.tight_layout()\n",
        "plt.show()"
      ]
    },
    {
      "cell_type": "markdown",
      "id": "cf9c4bcd",
      "metadata": {
        "id": "cf9c4bcd"
      },
      "source": [
        "- 화요일부터 금요일까지 방문자가 많았으며, 주말에는 상대적으로 적은 편이었습니다.\n",
        "\t- 평일 중심으로 서비스가 주로 이용되고 있는 것으로 해석됩니다.\n"
      ]
    },
    {
      "cell_type": "markdown",
      "id": "CG-djq32kbeA",
      "metadata": {
        "id": "CG-djq32kbeA"
      },
      "source": [
        "#### 월별 방문 수"
      ]
    },
    {
      "cell_type": "code",
      "execution_count": 20,
      "id": "f3133685",
      "metadata": {
        "colab": {
          "base_uri": "https://localhost:8080/",
          "height": 487
        },
        "id": "f3133685",
        "outputId": "bdf78a70-a1a3-4e9b-9bdc-b51c522a33d9"
      },
      "outputs": [
        {
          "data": {
            "image/png": "[encoded data removed]",
            "text/plain": [
              "<Figure size 640x480 with 1 Axes>"
            ]
          },
          "metadata": {},
          "output_type": "display_data"
        }
      ],
      "source": [
        "monthly_counts = eda_df['month'].value_counts().sort_index()\n",
        "fig3, ax3 = plt.subplots()\n",
        "monthly_counts.plot(kind='bar', ax=ax3)\n",
        "ax3.set_title('월별 방문 수')\n",
        "ax3.set_xlabel('월')\n",
        "ax3.set_ylabel('방문 수')\n",
        "\n",
        "plt.tight_layout()\n",
        "plt.show()"
      ]
    },
    {
      "cell_type": "markdown",
      "id": "6isaGOFMkg3_",
      "metadata": {
        "id": "6isaGOFMkg3_"
      },
      "source": [
        "#### 지점별 평균 체류 시간"
      ]
    },
    {
      "cell_type": "code",
      "execution_count": 21,
      "id": "6fb8e4ed",
      "metadata": {
        "colab": {
          "base_uri": "https://localhost:8080/",
          "height": 487
        },
        "id": "6fb8e4ed",
        "outputId": "e9b55fd9-60fb-4742-a6c4-dcb95265cfe9"
      },
      "outputs": [
        {
          "data": {
            "image/png": "[encoded data removed]",
            "text/plain": [
              "<Figure size 640x480 with 1 Axes>"
            ]
          },
          "metadata": {},
          "output_type": "display_data"
        }
      ],
      "source": [
        "site_mean_stay = eda_df.groupby('site_id')['stay_minutes'].mean().sort_values(ascending=False)\n",
        "fig4, ax4 = plt.subplots()\n",
        "site_mean_stay.plot(kind='bar', ax=ax4)\n",
        "ax4.set_title('지점별 평균 체류 시간')\n",
        "ax4.set_xlabel('지점 ID')\n",
        "ax4.set_ylabel('평균 체류 시간 (분)')\n",
        "\n",
        "plt.tight_layout()\n",
        "plt.show()"
      ]
    },
    {
      "cell_type": "markdown",
      "id": "2a6bea43",
      "metadata": {
        "id": "2a6bea43"
      },
      "source": [
        "### trial_access_log (3일체험 신청자 출입기록)"
      ]
    },
    {
      "cell_type": "code",
      "execution_count": 22,
      "id": "c8372d3b",
      "metadata": {
        "colab": {
          "base_uri": "https://localhost:8080/"
        },
        "id": "c8372d3b",
        "outputId": "472a6644-0cec-4f60-de3c-4e5bc01503d8"
      },
      "outputs": [
        {
          "name": "stdout",
          "output_type": "stream",
          "text": [
            "<class 'pandas.core.frame.DataFrame'>\n",
            "RangeIndex: 63708 entries, 0 to 63707\n",
            "Data columns (total 5 columns):\n",
            " #   Column     Non-Null Count  Dtype                     \n",
            "---  ------     --------------  -----                     \n",
            " 0   id         63708 non-null  int64                     \n",
            " 1   checkin    63708 non-null  int64                     \n",
            " 2   cdate      63708 non-null  datetime64[ns, Asia/Seoul]\n",
            " 3   site_id    63708 non-null  int64                     \n",
            " 4   user_uuid  63708 non-null  object                    \n",
            "dtypes: datetime64[ns, Asia/Seoul](1), int64(3), object(1)\n",
            "memory usage: 2.4+ MB\n"
          ]
        }
      ],
      "source": [
        "trial_access_log.info()"
      ]
    },
    {
      "cell_type": "code",
      "execution_count": 23,
      "id": "005a3fac",
      "metadata": {
        "id": "005a3fac"
      },
      "outputs": [],
      "source": [
        "# 전처리: datetime 변환, 입퇴실 이름 지정\n",
        "trial_access_log['cdate'] = pd.to_datetime(trial_access_log['cdate'])\n",
        "trial_access_log['hour'] = trial_access_log['cdate'].dt.hour\n",
        "trial_access_log['weekday'] = trial_access_log['cdate'].dt.day_name()\n",
        "trial_access_log['date'] = trial_access_log['cdate'].dt.date\n",
        "\n",
        "# 입실/퇴실 코드 해석\n",
        "checkin_map = {1: 'IN', 2: 'OUT'}\n",
        "trial_access_log['checkin_type'] = trial_access_log['checkin'].map(checkin_map)\n",
        "\n",
        "# 입실/퇴실 비율\n",
        "in_out_counts = trial_access_log['checkin_type'].value_counts()\n",
        "\n",
        "# 요일별 출입 로그 수\n",
        "weekday_counts = trial_access_log['weekday'].value_counts().reindex(\n",
        "    ['Monday', 'Tuesday', 'Wednesday', 'Thursday', 'Friday', 'Saturday', 'Sunday']\n",
        ")\n",
        "\n",
        "# 시간대별 출입 로그 수\n",
        "hourly_counts = trial_access_log['hour'].value_counts().sort_index()"
      ]
    },
    {
      "cell_type": "markdown",
      "id": "m8kYnFqhk5fi",
      "metadata": {
        "id": "m8kYnFqhk5fi"
      },
      "source": [
        "#### 입실 및 퇴실 로그 수 비교"
      ]
    },
    {
      "cell_type": "code",
      "execution_count": 24,
      "id": "5e4bf00f",
      "metadata": {
        "colab": {
          "base_uri": "https://localhost:8080/",
          "height": 407
        },
        "id": "5e4bf00f",
        "outputId": "819f6b99-d6c3-4864-84fe-87dd8d1bb165"
      },
      "outputs": [
        {
          "data": {
            "image/png": "[encoded data removed]",
            "text/plain": [
              "<Figure size 600x400 with 1 Axes>"
            ]
          },
          "metadata": {},
          "output_type": "display_data"
        }
      ],
      "source": [
        "# 입실 vs 퇴실 로그 수\n",
        "plt.figure(figsize=(6, 4))\n",
        "sns.barplot(x=in_out_counts.index, y=in_out_counts.values)\n",
        "plt.title(\"입실 vs 퇴실 로그 수\")\n",
        "plt.xlabel(\"구분\")\n",
        "plt.ylabel(\"건수\")\n",
        "plt.grid(True)\n",
        "plt.tight_layout()\n",
        "plt.show()"
      ]
    },
    {
      "cell_type": "markdown",
      "id": "ieYy8LXtjs1G",
      "metadata": {
        "id": "ieYy8LXtjs1G"
      },
      "source": [
        "- 두 값은 거의 동일하나, 입실 로그(IN)가 퇴실 로그(OUT)보다 약간 더 많습니다."
      ]
    },
    {
      "cell_type": "markdown",
      "id": "flq45ZSdlAB_",
      "metadata": {
        "id": "flq45ZSdlAB_"
      },
      "source": [
        "#### 시간대별 출입 로그 수"
      ]
    },
    {
      "cell_type": "code",
      "execution_count": 25,
      "id": "528dbedb",
      "metadata": {
        "colab": {
          "base_uri": "https://localhost:8080/",
          "height": 306
        },
        "id": "528dbedb",
        "outputId": "9c84412a-09a4-4661-f5f9-9a7b89fbb9d4"
      },
      "outputs": [
        {
          "data": {
            "image/png": "[encoded data removed]",
            "text/plain": [
              "<Figure size 1000x400 with 1 Axes>"
            ]
          },
          "metadata": {},
          "output_type": "display_data"
        }
      ],
      "source": [
        "plt.figure(figsize=(10, 4))\n",
        "sns.lineplot(x=hourly_counts.index, y=hourly_counts.values, marker=\"o\")\n",
        "plt.title(\"시간대별 출입 로그 수\")\n",
        "plt.xlabel(\"시간 (시)\")\n",
        "plt.ylabel(\"건수\")\n",
        "plt.xticks(range(0, 24))\n",
        "plt.grid(True)\n",
        "plt.tight_layout()\n",
        "plt.show()"
      ]
    },
    {
      "cell_type": "markdown",
      "id": "e9459f23",
      "metadata": {
        "id": "e9459f23"
      },
      "source": [
        "- 오전 9시부터 출입이 급증\n",
        "    - 오전 9시부터 출입 로그가 본격적으로 증가하며, 오후 3시(15시)에 최대치(약 6,200건 이상)를 기록합니다.\n",
        "\n",
        "- 오후 4시~6시까지도 높은 이용 유지\n",
        "    - 오후 16시~18시에도 많은 출입이 유지되고 있어, 장시간 체류하거나 오후 타임 미팅 등으로 이용이 지속되는 것으로 보입니다.\n",
        "\n",
        "- 저녁 이후 점차 감소\n",
        "    - 19시 이후부터 출입 수가 점차 감소하며, 22시~23시에 이르면 대부분의 이용이 마무리되는 패턴을 보입니다.\n",
        "\n",
        "- 심야 시간대는 매우 낮은 출입\n",
        "    - 0시~6시 사이에는 출입 로그가 거의 없어, 이 시간대는 사실상 서비스 이용이 거의 없는 비활성 시간대로 판단됩니다.\n",
        "\n"
      ]
    },
    {
      "cell_type": "markdown",
      "id": "qqdvPnMan46Y",
      "metadata": {
        "id": "qqdvPnMan46Y"
      },
      "source": [
        "#### 지점별 운영 기간(출입 로그 기준) 확인"
      ]
    },
    {
      "cell_type": "code",
      "execution_count": 26,
      "id": "6F7BAi5gn7tc",
      "metadata": {
        "colab": {
          "base_uri": "https://localhost:8080/",
          "height": 331
        },
        "id": "6F7BAi5gn7tc",
        "outputId": "13eb532b-ef6b-42c5-9920-662394b1b8a0"
      },
      "outputs": [
        {
          "data": {
            "text/html": [
              "<div>\n",
              "<style scoped>\n",
              "    .dataframe tbody tr th:only-of-type {\n",
              "        vertical-align: middle;\n",
              "    }\n",
              "\n",
              "    .dataframe tbody tr th {\n",
              "        vertical-align: top;\n",
              "    }\n",
              "\n",
              "    .dataframe thead th {\n",
              "        text-align: right;\n",
              "    }\n",
              "</style>\n",
              "<table border=\"1\" class=\"dataframe\">\n",
              "  <thead>\n",
              "    <tr style=\"text-align: right;\">\n",
              "      <th></th>\n",
              "      <th>site_id</th>\n",
              "      <th>start_date</th>\n",
              "      <th>end_date</th>\n",
              "    </tr>\n",
              "  </thead>\n",
              "  <tbody>\n",
              "    <tr>\n",
              "      <th>0</th>\n",
              "      <td>1</td>\n",
              "      <td>2021-05-03 14:20:36.931652+09:00</td>\n",
              "      <td>2023-12-30 19:41:24.360807+09:00</td>\n",
              "    </tr>\n",
              "    <tr>\n",
              "      <th>1</th>\n",
              "      <td>2</td>\n",
              "      <td>2021-05-06 14:48:22.282740+09:00</td>\n",
              "      <td>2023-12-31 00:30:23.735595+09:00</td>\n",
              "    </tr>\n",
              "    <tr>\n",
              "      <th>2</th>\n",
              "      <td>3</td>\n",
              "      <td>2021-05-02 18:42:13.893455+09:00</td>\n",
              "      <td>2024-01-01 23:36:13.987243+09:00</td>\n",
              "    </tr>\n",
              "    <tr>\n",
              "      <th>3</th>\n",
              "      <td>4</td>\n",
              "      <td>2021-05-12 09:34:48.235545+09:00</td>\n",
              "      <td>2024-01-01 18:38:05.941027+09:00</td>\n",
              "    </tr>\n",
              "    <tr>\n",
              "      <th>4</th>\n",
              "      <td>5</td>\n",
              "      <td>2021-09-03 10:00:16.574002+09:00</td>\n",
              "      <td>2023-10-14 21:31:26.409452+09:00</td>\n",
              "    </tr>\n",
              "    <tr>\n",
              "      <th>5</th>\n",
              "      <td>6</td>\n",
              "      <td>2021-11-15 15:33:11.639395+09:00</td>\n",
              "      <td>2024-01-01 23:17:30.522273+09:00</td>\n",
              "    </tr>\n",
              "    <tr>\n",
              "      <th>6</th>\n",
              "      <td>17</td>\n",
              "      <td>2022-08-08 09:22:41.367042+09:00</td>\n",
              "      <td>2024-01-01 19:02:49.172444+09:00</td>\n",
              "    </tr>\n",
              "    <tr>\n",
              "      <th>7</th>\n",
              "      <td>47</td>\n",
              "      <td>2022-12-09 09:13:28.695039+09:00</td>\n",
              "      <td>2024-01-01 18:54:14.311123+09:00</td>\n",
              "    </tr>\n",
              "    <tr>\n",
              "      <th>8</th>\n",
              "      <td>49</td>\n",
              "      <td>2023-04-22 13:57:18.815252+09:00</td>\n",
              "      <td>2023-12-30 11:42:32.858141+09:00</td>\n",
              "    </tr>\n",
              "  </tbody>\n",
              "</table>\n",
              "</div>"
            ],
            "text/plain": [
              "   site_id                       start_date                         end_date\n",
              "0        1 2021-05-03 14:20:36.931652+09:00 2023-12-30 19:41:24.360807+09:00\n",
              "1        2 2021-05-06 14:48:22.282740+09:00 2023-12-31 00:30:23.735595+09:00\n",
              "2        3 2021-05-02 18:42:13.893455+09:00 2024-01-01 23:36:13.987243+09:00\n",
              "3        4 2021-05-12 09:34:48.235545+09:00 2024-01-01 18:38:05.941027+09:00\n",
              "4        5 2021-09-03 10:00:16.574002+09:00 2023-10-14 21:31:26.409452+09:00\n",
              "5        6 2021-11-15 15:33:11.639395+09:00 2024-01-01 23:17:30.522273+09:00\n",
              "6       17 2022-08-08 09:22:41.367042+09:00 2024-01-01 19:02:49.172444+09:00\n",
              "7       47 2022-12-09 09:13:28.695039+09:00 2024-01-01 18:54:14.311123+09:00\n",
              "8       49 2023-04-22 13:57:18.815252+09:00 2023-12-30 11:42:32.858141+09:00"
            ]
          },
          "execution_count": 26,
          "metadata": {},
          "output_type": "execute_result"
        }
      ],
      "source": [
        "trial_access_log['cdate'] = pd.to_datetime(trial_access_log['cdate'])\n",
        "\n",
        "# 지점별 이용 시작일과 종료일 구하기\n",
        "site_periods = trial_access_log.groupby(\"site_id\")[\"cdate\"].agg([\"min\", \"max\"]).reset_index()\n",
        "site_periods.columns = [\"site_id\", \"start_date\", \"end_date\"]\n",
        "\n",
        "site_periods"
      ]
    },
    {
      "cell_type": "markdown",
      "id": "rigmuHQtoG5J",
      "metadata": {
        "id": "rigmuHQtoG5J"
      },
      "source": [
        "- 지점별 최초 출입기록이 서로 다른 시점에 시작된 것으로 보아 중간에 새로 생성된 지점이 있음을 시사합니다."
      ]
    },
    {
      "cell_type": "markdown",
      "id": "LbuT8qsyoe71",
      "metadata": {
        "id": "LbuT8qsyoe71"
      },
      "source": [
        "##### 신규 오픈 이후 방문율"
      ]
    },
    {
      "cell_type": "code",
      "execution_count": 27,
      "id": "d28U4My9ohHj",
      "metadata": {
        "colab": {
          "base_uri": "https://localhost:8080/",
          "height": 423
        },
        "id": "d28U4My9ohHj",
        "outputId": "e00e4602-232c-4c21-e2ef-43955ec45a66"
      },
      "outputs": [
        {
          "data": {
            "text/html": [
              "<div>\n",
              "<style scoped>\n",
              "    .dataframe tbody tr th:only-of-type {\n",
              "        vertical-align: middle;\n",
              "    }\n",
              "\n",
              "    .dataframe tbody tr th {\n",
              "        vertical-align: top;\n",
              "    }\n",
              "\n",
              "    .dataframe thead th {\n",
              "        text-align: right;\n",
              "    }\n",
              "</style>\n",
              "<table border=\"1\" class=\"dataframe\">\n",
              "  <thead>\n",
              "    <tr style=\"text-align: right;\">\n",
              "      <th></th>\n",
              "      <th>site_id</th>\n",
              "      <th>visit_month</th>\n",
              "      <th>unique_visitors</th>\n",
              "    </tr>\n",
              "  </thead>\n",
              "  <tbody>\n",
              "    <tr>\n",
              "      <th>97</th>\n",
              "      <td>4</td>\n",
              "      <td>2021-05</td>\n",
              "      <td>45</td>\n",
              "    </tr>\n",
              "    <tr>\n",
              "      <th>98</th>\n",
              "      <td>4</td>\n",
              "      <td>2021-06</td>\n",
              "      <td>59</td>\n",
              "    </tr>\n",
              "    <tr>\n",
              "      <th>99</th>\n",
              "      <td>4</td>\n",
              "      <td>2021-07</td>\n",
              "      <td>44</td>\n",
              "    </tr>\n",
              "    <tr>\n",
              "      <th>100</th>\n",
              "      <td>4</td>\n",
              "      <td>2021-08</td>\n",
              "      <td>31</td>\n",
              "    </tr>\n",
              "    <tr>\n",
              "      <th>101</th>\n",
              "      <td>4</td>\n",
              "      <td>2021-09</td>\n",
              "      <td>25</td>\n",
              "    </tr>\n",
              "    <tr>\n",
              "      <th>...</th>\n",
              "      <td>...</td>\n",
              "      <td>...</td>\n",
              "      <td>...</td>\n",
              "    </tr>\n",
              "    <tr>\n",
              "      <th>219</th>\n",
              "      <td>49</td>\n",
              "      <td>2023-08</td>\n",
              "      <td>17</td>\n",
              "    </tr>\n",
              "    <tr>\n",
              "      <th>220</th>\n",
              "      <td>49</td>\n",
              "      <td>2023-09</td>\n",
              "      <td>17</td>\n",
              "    </tr>\n",
              "    <tr>\n",
              "      <th>221</th>\n",
              "      <td>49</td>\n",
              "      <td>2023-10</td>\n",
              "      <td>15</td>\n",
              "    </tr>\n",
              "    <tr>\n",
              "      <th>222</th>\n",
              "      <td>49</td>\n",
              "      <td>2023-11</td>\n",
              "      <td>20</td>\n",
              "    </tr>\n",
              "    <tr>\n",
              "      <th>223</th>\n",
              "      <td>49</td>\n",
              "      <td>2023-12</td>\n",
              "      <td>26</td>\n",
              "    </tr>\n",
              "  </tbody>\n",
              "</table>\n",
              "<p>127 rows × 3 columns</p>\n",
              "</div>"
            ],
            "text/plain": [
              "     site_id visit_month  unique_visitors\n",
              "97         4     2021-05               45\n",
              "98         4     2021-06               59\n",
              "99         4     2021-07               44\n",
              "100        4     2021-08               31\n",
              "101        4     2021-09               25\n",
              "..       ...         ...              ...\n",
              "219       49     2023-08               17\n",
              "220       49     2023-09               17\n",
              "221       49     2023-10               15\n",
              "222       49     2023-11               20\n",
              "223       49     2023-12               26\n",
              "\n",
              "[127 rows x 3 columns]"
            ]
          },
          "execution_count": 27,
          "metadata": {},
          "output_type": "execute_result"
        }
      ],
      "source": [
        "# 지점별 오픈일 파악\n",
        "site_open_dates = trial_access_log.groupby(\"site_id\")[\"cdate\"].min().reset_index()\n",
        "site_open_dates.columns = [\"site_id\", \"open_date\"]\n",
        "site_open_dates[\"open_month\"] = site_open_dates[\"open_date\"].dt.to_period(\"M\")\n",
        "\n",
        "# access_log에 open_month 병합\n",
        "trial_access_log = trial_access_log.merge(site_open_dates, on=\"site_id\", how=\"left\")\n",
        "\n",
        "# 방문 로그에서 방문월 구하기\n",
        "trial_access_log[\"visit_month\"] = trial_access_log[\"cdate\"].dt.to_period(\"M\")\n",
        "\n",
        "# 오픈 이후 방문만 필터링\n",
        "after_open = trial_access_log[trial_access_log[\"visit_month\"] >= trial_access_log[\"open_month\"]]\n",
        "\n",
        "# 오픈 이후 월별 방문 수 계산\n",
        "visit_counts = after_open.groupby([\"site_id\", \"visit_month\"])[\"user_uuid\"].nunique().reset_index()\n",
        "visit_counts.columns = [\"site_id\", \"visit_month\", \"unique_visitors\"]\n",
        "# site_id 1, 2, 3 제외한 지점 필터링\n",
        "filtered_visits = visit_counts[~visit_counts[\"site_id\"].isin([1, 2, 3])]\n",
        "filtered_visits"
      ]
    },
    {
      "cell_type": "markdown",
      "id": "3qN2OLQ1onkt",
      "metadata": {
        "id": "3qN2OLQ1onkt"
      },
      "source": [
        "###### 지점별로 개별 시각화"
      ]
    },
    {
      "cell_type": "code",
      "execution_count": 28,
      "id": "B-gsDOatomIB",
      "metadata": {
        "colab": {
          "base_uri": "https://localhost:8080/",
          "height": 1000
        },
        "id": "B-gsDOatomIB",
        "outputId": "3a0ae825-b4d3-4c33-8597-3ca43a01565e"
      },
      "outputs": [
        {
          "data": {
            "image/png": "[encoded data removed]",
            "text/plain": [
              "<Figure size 800x400 with 1 Axes>"
            ]
          },
          "metadata": {},
          "output_type": "display_data"
        },
        {
          "data": {
            "image/png": "[encoded data removed]",
            "text/plain": [
              "<Figure size 800x400 with 1 Axes>"
            ]
          },
          "metadata": {},
          "output_type": "display_data"
        },
        {
          "data": {
            "image/png": "[encoded data removed]",
            "text/plain": [
              "<Figure size 800x400 with 1 Axes>"
            ]
          },
          "metadata": {},
          "output_type": "display_data"
        },
        {
          "data": {
            "image/png": "[encoded data removed]",
            "text/plain": [
              "<Figure size 800x400 with 1 Axes>"
            ]
          },
          "metadata": {},
          "output_type": "display_data"
        },
        {
          "data": {
            "image/png": "[encoded data removed]",
            "text/plain": [
              "<Figure size 800x400 with 1 Axes>"
            ]
          },
          "metadata": {},
          "output_type": "display_data"
        },
        {
          "data": {
            "image/png": "[encoded data removed]",
            "text/plain": [
              "<Figure size 800x400 with 1 Axes>"
            ]
          },
          "metadata": {},
          "output_type": "display_data"
        }
      ],
      "source": [
        "site_ids = filtered_visits[\"site_id\"].unique()\n",
        "\n",
        "for site in site_ids:\n",
        "    site_df = filtered_visits[filtered_visits[\"site_id\"] == site]\n",
        "    plt.figure(figsize=(8, 4))\n",
        "    plt.plot(site_df[\"visit_month\"].astype(str), site_df[\"unique_visitors\"], marker='o')\n",
        "    plt.title(f\"site_id {site} - 오픈 이후 월별 방문자 수\")\n",
        "    plt.xlabel(\"월\")\n",
        "    plt.ylabel(\"방문자 수\")\n",
        "    plt.grid(True)\n",
        "    plt.xticks(rotation=45)\n",
        "    plt.tight_layout()\n",
        "    plt.show()"
      ]
    },
    {
      "cell_type": "markdown",
      "id": "ncKFkOOoossE",
      "metadata": {
        "id": "ncKFkOOoossE"
      },
      "source": [
        "- 대부분의 지점이 오픈 이후 방문율이 높게 나왔습니다."
      ]
    },
    {
      "cell_type": "markdown",
      "id": "A209XLiYozfR",
      "metadata": {
        "id": "A209XLiYozfR"
      },
      "source": [
        "##### 지점 오픈 첫 달 vs 이후 방문자 수 비교"
      ]
    },
    {
      "cell_type": "code",
      "execution_count": 29,
      "id": "4iM4br73o2jl",
      "metadata": {
        "colab": {
          "base_uri": "https://localhost:8080/",
          "height": 237
        },
        "id": "4iM4br73o2jl",
        "outputId": "dbd0dcbc-b211-439e-d68b-06455e7b2114"
      },
      "outputs": [
        {
          "data": {
            "text/html": [
              "<div>\n",
              "<style scoped>\n",
              "    .dataframe tbody tr th:only-of-type {\n",
              "        vertical-align: middle;\n",
              "    }\n",
              "\n",
              "    .dataframe tbody tr th {\n",
              "        vertical-align: top;\n",
              "    }\n",
              "\n",
              "    .dataframe thead th {\n",
              "        text-align: right;\n",
              "    }\n",
              "</style>\n",
              "<table border=\"1\" class=\"dataframe\">\n",
              "  <thead>\n",
              "    <tr style=\"text-align: right;\">\n",
              "      <th></th>\n",
              "      <th>site_id</th>\n",
              "      <th>open_month_visitors</th>\n",
              "      <th>after_avg_visitors</th>\n",
              "      <th>relative_ratio</th>\n",
              "    </tr>\n",
              "  </thead>\n",
              "  <tbody>\n",
              "    <tr>\n",
              "      <th>0</th>\n",
              "      <td>4</td>\n",
              "      <td>45</td>\n",
              "      <td>13.781250</td>\n",
              "      <td>3.265306</td>\n",
              "    </tr>\n",
              "    <tr>\n",
              "      <th>1</th>\n",
              "      <td>5</td>\n",
              "      <td>97</td>\n",
              "      <td>19.280000</td>\n",
              "      <td>5.031120</td>\n",
              "    </tr>\n",
              "    <tr>\n",
              "      <th>2</th>\n",
              "      <td>6</td>\n",
              "      <td>69</td>\n",
              "      <td>45.192308</td>\n",
              "      <td>1.526809</td>\n",
              "    </tr>\n",
              "    <tr>\n",
              "      <th>3</th>\n",
              "      <td>17</td>\n",
              "      <td>62</td>\n",
              "      <td>22.823529</td>\n",
              "      <td>2.716495</td>\n",
              "    </tr>\n",
              "    <tr>\n",
              "      <th>4</th>\n",
              "      <td>47</td>\n",
              "      <td>98</td>\n",
              "      <td>15.615385</td>\n",
              "      <td>6.275862</td>\n",
              "    </tr>\n",
              "    <tr>\n",
              "      <th>5</th>\n",
              "      <td>49</td>\n",
              "      <td>11</td>\n",
              "      <td>16.125000</td>\n",
              "      <td>0.682171</td>\n",
              "    </tr>\n",
              "  </tbody>\n",
              "</table>\n",
              "</div>"
            ],
            "text/plain": [
              "   site_id  open_month_visitors  after_avg_visitors  relative_ratio\n",
              "0        4                   45           13.781250        3.265306\n",
              "1        5                   97           19.280000        5.031120\n",
              "2        6                   69           45.192308        1.526809\n",
              "3       17                   62           22.823529        2.716495\n",
              "4       47                   98           15.615385        6.275862\n",
              "5       49                   11           16.125000        0.682171"
            ]
          },
          "execution_count": 29,
          "metadata": {},
          "output_type": "execute_result"
        }
      ],
      "source": [
        "# 첫 방문월 및 이후 방문월 구분\n",
        "first_vs_after = filtered_visits.merge(site_open_dates[[\"site_id\", \"open_month\"]], on=\"site_id\", how=\"left\")\n",
        "first_vs_after[\"is_open_month\"] = first_vs_after[\"visit_month\"] == first_vs_after[\"open_month\"]\n",
        "\n",
        "# 첫 달 방문자수\n",
        "first_month_visits = (\n",
        "    first_vs_after[first_vs_after[\"is_open_month\"]]\n",
        "    .groupby(\"site_id\")[\"unique_visitors\"]\n",
        "    .first()\n",
        "    .reset_index()\n",
        "    .rename(columns={\"unique_visitors\": \"open_month_visitors\"})\n",
        ")\n",
        "\n",
        "# 이후 평균 방문자수\n",
        "after_month_visits = (\n",
        "    first_vs_after[~first_vs_after[\"is_open_month\"]]\n",
        "    .groupby(\"site_id\")[\"unique_visitors\"]\n",
        "    .mean()\n",
        "    .reset_index()\n",
        "    .rename(columns={\"unique_visitors\": \"after_avg_visitors\"})\n",
        ")\n",
        "\n",
        "# 병합 후 비교\n",
        "visit_compare = first_month_visits.merge(after_month_visits, on=\"site_id\", how=\"left\")\n",
        "visit_compare[\"relative_ratio\"] = visit_compare[\"open_month_visitors\"] / visit_compare[\"after_avg_visitors\"]\n",
        "\n",
        "visit_compare"
      ]
    },
    {
      "cell_type": "markdown",
      "id": "bRlVKzd2p3Hg",
      "metadata": {
        "id": "bRlVKzd2p3Hg"
      },
      "source": [
        "###### 오픈 첫 달 대비 이후 방문자 평균 비율 시각화"
      ]
    },
    {
      "cell_type": "code",
      "execution_count": 30,
      "id": "4AGZiFgdpUEb",
      "metadata": {
        "colab": {
          "base_uri": "https://localhost:8080/",
          "height": 627
        },
        "id": "4AGZiFgdpUEb",
        "outputId": "c73fb7ef-8a1f-4ce2-d3fa-ca1e8369472d"
      },
      "outputs": [
        {
          "data": {
            "image/png": "[encoded data removed]",
            "text/plain": [
              "<Figure size 1000x600 with 1 Axes>"
            ]
          },
          "metadata": {},
          "output_type": "display_data"
        }
      ],
      "source": [
        "# 정렬 기준: 첫 달 대비 비율 높은 순\n",
        "plot_data = visit_compare.sort_values(\"relative_ratio\", ascending=False)\n",
        "\n",
        "plt.figure(figsize=(10, 6))\n",
        "sns.barplot(\n",
        "    data=plot_data,\n",
        "    x=\"site_id\",\n",
        "    y=\"relative_ratio\",\n",
        "    palette=\"viridis\"\n",
        ")\n",
        "plt.axhline(1, color='red', linestyle='--', label='첫 달 = 이후 평균 방문자')\n",
        "plt.title(\"지점별 오픈 첫 달 방문자 / 이후 평균 방문자 비율\")\n",
        "plt.xlabel(\"지점 ID\")\n",
        "plt.ylabel(\"비율 (relative ratio)\")\n",
        "plt.legend()\n",
        "plt.grid(True)\n",
        "plt.tight_layout()\n",
        "plt.show()"
      ]
    },
    {
      "cell_type": "markdown",
      "id": "mu-BJrlrpuTZ",
      "metadata": {
        "id": "mu-BJrlrpuTZ"
      },
      "source": [
        "- 지점 47: 오픈 첫 달 방문자 수가 이후 평균 대비 약 6.3배 이상으로 나타나, 오픈 초기의 마케팅이나 홍보 효과가 매우 컸던 것으로 해석됩니다.\n",
        "- 지점 5, 4: 각각 약 5.1배, 3.3배로 오픈 초기에 방문이 집중된 양상을 보였습니다.\n",
        "- 지점 6, 17: 방문자 비율이 1~2배 사이로, 비교적 균형 잡힌 방문 패턴을 보인 지점들입니다.\n",
        "- 지점 49: 비율이 0.8 이하로, 오히려 오픈 이후에 평균 방문자가 더 많았던 지점으로 파악됩니다."
      ]
    },
    {
      "cell_type": "markdown",
      "id": "2630b9cd",
      "metadata": {
        "id": "2630b9cd"
      },
      "source": [
        "### 전환율 비교하기"
      ]
    },
    {
      "cell_type": "code",
      "execution_count": 31,
      "id": "255d8d11",
      "metadata": {
        "id": "255d8d11"
      },
      "outputs": [],
      "source": [
        "conversion = trial_payment['is_payment'].value_counts().reset_index()"
      ]
    },
    {
      "cell_type": "code",
      "execution_count": 32,
      "id": "8ac311ae",
      "metadata": {
        "colab": {
          "base_uri": "https://localhost:8080/",
          "height": 125
        },
        "id": "8ac311ae",
        "outputId": "52e4bc18-f2b0-43f1-b809-1a1abdcc6079"
      },
      "outputs": [
        {
          "data": {
            "text/html": [
              "<div>\n",
              "<style scoped>\n",
              "    .dataframe tbody tr th:only-of-type {\n",
              "        vertical-align: middle;\n",
              "    }\n",
              "\n",
              "    .dataframe tbody tr th {\n",
              "        vertical-align: top;\n",
              "    }\n",
              "\n",
              "    .dataframe thead th {\n",
              "        text-align: right;\n",
              "    }\n",
              "</style>\n",
              "<table border=\"1\" class=\"dataframe\">\n",
              "  <thead>\n",
              "    <tr style=\"text-align: right;\">\n",
              "      <th></th>\n",
              "      <th>is_payment</th>\n",
              "      <th>count</th>\n",
              "    </tr>\n",
              "  </thead>\n",
              "  <tbody>\n",
              "    <tr>\n",
              "      <th>0</th>\n",
              "      <td>0</td>\n",
              "      <td>5995</td>\n",
              "    </tr>\n",
              "    <tr>\n",
              "      <th>1</th>\n",
              "      <td>1</td>\n",
              "      <td>3664</td>\n",
              "    </tr>\n",
              "  </tbody>\n",
              "</table>\n",
              "</div>"
            ],
            "text/plain": [
              "   is_payment  count\n",
              "0           0   5995\n",
              "1           1   3664"
            ]
          },
          "execution_count": 32,
          "metadata": {},
          "output_type": "execute_result"
        }
      ],
      "source": [
        "conversion"
      ]
    },
    {
      "cell_type": "code",
      "execution_count": 33,
      "id": "1b060a98",
      "metadata": {
        "id": "1b060a98"
      },
      "outputs": [],
      "source": [
        "con = conversion.loc[conversion['is_payment'] == 1, 'count'].iloc[0]\n",
        "total = conversion['count'].sum()\n",
        "rate = con / total"
      ]
    },
    {
      "cell_type": "code",
      "execution_count": 34,
      "id": "eabafc71",
      "metadata": {
        "colab": {
          "base_uri": "https://localhost:8080/",
          "height": 624
        },
        "id": "eabafc71",
        "outputId": "63fac1fc-7c1f-413e-de0a-7985b205f2a3"
      },
      "outputs": [
        {
          "data": {
            "image/png": "[encoded data removed]",
            "text/plain": [
              "<Figure size 600x600 with 1 Axes>"
            ]
          },
          "metadata": {},
          "output_type": "display_data"
        },
        {
          "name": "stdout",
          "output_type": "stream",
          "text": [
            "전체 유저 대비 전환율: 37.93%\n"
          ]
        }
      ],
      "source": [
        "fig, ax = plt.subplots(figsize=(6, 6))\n",
        "\n",
        "# countplot: x에 컬럼명 문자열을, ax 인자 지정\n",
        "sns.barplot(data=conversion, x='is_payment', y='count', hue='is_payment')\n",
        "\n",
        "# 한글 레이블(선택)\n",
        "ax.set_title('최종 전환율 비교')\n",
        "ax.set_xlabel('결제 여부')\n",
        "ax.set_ylabel('건수 (명)')\n",
        "\n",
        "# 막대 위에 값 표시\n",
        "plt.tight_layout()\n",
        "plt.show()\n",
        "\n",
        "print(f'전체 유저 대비 전환율: {rate:.2%}')"
      ]
    },
    {
      "cell_type": "markdown",
      "id": "d0930161",
      "metadata": {
        "id": "d0930161"
      },
      "source": [
        "#### 방문자 전환 수"
      ]
    },
    {
      "cell_type": "code",
      "execution_count": 35,
      "id": "1b245439",
      "metadata": {
        "colab": {
          "base_uri": "https://localhost:8080/"
        },
        "id": "1b245439",
        "outputId": "0489edda-6374-41b3-df65-00c5f9500d43"
      },
      "outputs": [
        {
          "name": "stdout",
          "output_type": "stream",
          "text": [
            "방문 기록이 존재하는 결제 유저 수: 2564명\n"
          ]
        }
      ],
      "source": [
        "# 전환한 유저\n",
        "converted_user_uuid = trial_payment[trial_payment['is_payment'] == 1]['user_uuid']\n",
        "\n",
        "# 방문 기록 존재하는 결제 유저만 필터링\n",
        "visited = converted_user_uuid[converted_user_uuid.isin(trial_visit_info['user_uuid'])].nunique()\n",
        "\n",
        "print(f'방문 기록이 존재하는 결제 유저 수: {visited}명')"
      ]
    },
    {
      "cell_type": "markdown",
      "id": "7a91bd7a",
      "metadata": {
        "id": "7a91bd7a"
      },
      "source": [
        "#### 미방문자 전환 수"
      ]
    },
    {
      "cell_type": "code",
      "execution_count": 36,
      "id": "656f769b",
      "metadata": {
        "colab": {
          "base_uri": "https://localhost:8080/"
        },
        "id": "656f769b",
        "outputId": "4cd024ad-28d1-43d0-b952-69517bdc4e01"
      },
      "outputs": [
        {
          "name": "stdout",
          "output_type": "stream",
          "text": [
            "방문 기록 없는 결제 유저 수: 1088명\n"
          ]
        }
      ],
      "source": [
        "# 전환한 유저\n",
        "converted_user_uuid = trial_payment[trial_payment['is_payment'] == 1]['user_uuid']\n",
        "\n",
        "# 방문 기록에 없는 결제 유저만 필터링\n",
        "not_visited = converted_user_uuid[~converted_user_uuid.isin(trial_visit_info['user_uuid'])].nunique()\n",
        "\n",
        "print(f'방문 기록 없는 결제 유저 수: {not_visited}명')"
      ]
    },
    {
      "cell_type": "markdown",
      "id": "fc291d7f",
      "metadata": {
        "id": "fc291d7f"
      },
      "source": [
        "# 모델링"
      ]
    },
    {
      "cell_type": "markdown",
      "id": "dbc12c45",
      "metadata": {
        "id": "dbc12c45"
      },
      "source": [
        "## 데이터 병합"
      ]
    },
    {
      "cell_type": "markdown",
      "id": "KlRqo95GeGkp",
      "metadata": {
        "id": "KlRqo95GeGkp"
      },
      "source": [
        "### trial_access_log 기준으로 병합 (trial_visit_info 제외)"
      ]
    },
    {
      "cell_type": "code",
      "execution_count": 37,
      "id": "0fe039a2",
      "metadata": {
        "id": "0fe039a2"
      },
      "outputs": [],
      "source": [
        "# site_id 기준으로 병합\n",
        "merged_df = trial_access_log.merge(site_area, on=\"site_id\", how=\"left\")\n",
        "\n",
        "# area_pyeong을 site_id 바로 오른쪽으로 이동\n",
        "cols = list(merged_df.columns)\n",
        "# 'site_id' 다음 위치를 계산해서 'area_pyeong' 위치 조정\n",
        "site_idx = cols.index(\"site_id\")\n",
        "cols.insert(site_idx + 1, cols.pop(cols.index(\"area_pyeong\")))\n",
        "merged_df = merged_df[cols]\n",
        "\n",
        "# user_uuid 기준으로 병합\n",
        "merged_df = merged_df.merge(trial_payment, on=\"user_uuid\", how=\"left\")\n",
        "\n",
        "# is_payment 컬럼을 user_uuid 바로 오른쪽으로 이동\n",
        "cols = list(merged_df.columns)\n",
        "uuid_idx = cols.index(\"user_uuid\")\n",
        "cols.insert(uuid_idx + 1, cols.pop(cols.index(\"is_payment\")))\n",
        "merged_df = merged_df[cols]\n",
        "\n",
        "# user_uuid 기준으로 병합\n",
        "merged_df = merged_df.merge(trial_register, on=\"user_uuid\", how=\"left\")\n",
        "\n",
        "# trial_date를 user_uuid 왼쪽으로 이동\n",
        "cols = list(merged_df.columns)\n",
        "uuid_idx = cols.index(\"user_uuid\")\n",
        "cols.insert(uuid_idx, cols.pop(cols.index(\"trial_date\")))\n",
        "merged_df = merged_df[cols]"
      ]
    },
    {
      "cell_type": "code",
      "execution_count": 38,
      "id": "b2fda3c9",
      "metadata": {
        "colab": {
          "base_uri": "https://localhost:8080/",
          "height": 408
        },
        "id": "b2fda3c9",
        "outputId": "982a57c9-46e3-4a43-bf9a-908677cadb19"
      },
      "outputs": [],
      "source": [
        "# datetime 처리\n",
        "merged_df[\"cdate\"] = pd.to_datetime(merged_df[\"cdate\"])\n",
        "merged_df[\"trial_date\"] = pd.to_datetime(merged_df[\"trial_date\"])\n",
        "merged_df[\"cdate\"] = merged_df[\"cdate\"].dt.tz_localize(None)\n",
        "\n",
        " \n",
        "# 체험 신청 이후의 행동만 고려할 수도 있음 (선택)\n",
        "merged_df[\"days_since_trial\"] = (merged_df[\"cdate\"] - merged_df[\"trial_date\"]).dt.days\n",
        "\n",
        "# 유저별 방문 횟수 및 입퇴실 로그 수\n",
        "checkin_stats = (\n",
        "    merged_df.groupby(\"user_uuid\")\n",
        "    .agg(\n",
        "        total_visits=(\"id\", \"count\"),\n",
        "        total_checkins=(\"checkin\", lambda x: (x == 1).sum()),\n",
        "        total_checkouts=(\"checkin\", lambda x: (x == 2).sum()),\n",
        "        unique_visit_days=(\"cdate\", lambda x: x.dt.date.nunique()),\n",
        "        site_diversity=(\"site_id\", \"nunique\"),\n",
        "        avg_days_since_trial=(\"days_since_trial\", \"mean\")\n",
        "    )\n",
        ")"
      ]
    },
    {
      "cell_type": "code",
      "execution_count": 39,
      "id": "2a708bf6",
      "metadata": {},
      "outputs": [
        {
          "data": {
            "text/html": [
              "<div>\n",
              "<style scoped>\n",
              "    .dataframe tbody tr th:only-of-type {\n",
              "        vertical-align: middle;\n",
              "    }\n",
              "\n",
              "    .dataframe tbody tr th {\n",
              "        vertical-align: top;\n",
              "    }\n",
              "\n",
              "    .dataframe thead th {\n",
              "        text-align: right;\n",
              "    }\n",
              "</style>\n",
              "<table border=\"1\" class=\"dataframe\">\n",
              "  <thead>\n",
              "    <tr style=\"text-align: right;\">\n",
              "      <th></th>\n",
              "      <th>total_visits</th>\n",
              "      <th>total_checkins</th>\n",
              "      <th>total_checkouts</th>\n",
              "      <th>unique_visit_days</th>\n",
              "      <th>site_diversity</th>\n",
              "      <th>avg_days_since_trial</th>\n",
              "    </tr>\n",
              "    <tr>\n",
              "      <th>user_uuid</th>\n",
              "      <th></th>\n",
              "      <th></th>\n",
              "      <th></th>\n",
              "      <th></th>\n",
              "      <th></th>\n",
              "      <th></th>\n",
              "    </tr>\n",
              "  </thead>\n",
              "  <tbody>\n",
              "    <tr>\n",
              "      <th>000590dc-046f-462b-8225-4c81a97b7166</th>\n",
              "      <td>6</td>\n",
              "      <td>3</td>\n",
              "      <td>3</td>\n",
              "      <td>1</td>\n",
              "      <td>1</td>\n",
              "      <td>1.000000</td>\n",
              "    </tr>\n",
              "    <tr>\n",
              "      <th>000be14f-ba0f-4af6-bc2c-7b00dfcbc98c</th>\n",
              "      <td>18</td>\n",
              "      <td>9</td>\n",
              "      <td>9</td>\n",
              "      <td>2</td>\n",
              "      <td>1</td>\n",
              "      <td>1.222222</td>\n",
              "    </tr>\n",
              "    <tr>\n",
              "      <th>0018e22d-a2cc-4e06-bca2-d6a041770f3b</th>\n",
              "      <td>19</td>\n",
              "      <td>11</td>\n",
              "      <td>8</td>\n",
              "      <td>2</td>\n",
              "      <td>1</td>\n",
              "      <td>1.315789</td>\n",
              "    </tr>\n",
              "    <tr>\n",
              "      <th>002606d9-38ca-48f3-910c-cbfada9a9109</th>\n",
              "      <td>8</td>\n",
              "      <td>4</td>\n",
              "      <td>4</td>\n",
              "      <td>2</td>\n",
              "      <td>1</td>\n",
              "      <td>1.500000</td>\n",
              "    </tr>\n",
              "    <tr>\n",
              "      <th>002a7570-90dd-4cab-b0aa-b0e40f7ef27a</th>\n",
              "      <td>10</td>\n",
              "      <td>5</td>\n",
              "      <td>5</td>\n",
              "      <td>1</td>\n",
              "      <td>1</td>\n",
              "      <td>1.000000</td>\n",
              "    </tr>\n",
              "    <tr>\n",
              "      <th>...</th>\n",
              "      <td>...</td>\n",
              "      <td>...</td>\n",
              "      <td>...</td>\n",
              "      <td>...</td>\n",
              "      <td>...</td>\n",
              "      <td>...</td>\n",
              "    </tr>\n",
              "    <tr>\n",
              "      <th>ffc79669-ed11-4cde-86d4-8ec232ac7b14</th>\n",
              "      <td>9</td>\n",
              "      <td>5</td>\n",
              "      <td>4</td>\n",
              "      <td>1</td>\n",
              "      <td>1</td>\n",
              "      <td>2.000000</td>\n",
              "    </tr>\n",
              "    <tr>\n",
              "      <th>ffcb7950-d150-40ae-a6bf-f85f5c2b9702</th>\n",
              "      <td>10</td>\n",
              "      <td>5</td>\n",
              "      <td>5</td>\n",
              "      <td>2</td>\n",
              "      <td>1</td>\n",
              "      <td>1.600000</td>\n",
              "    </tr>\n",
              "    <tr>\n",
              "      <th>ffce32ca-2efc-4485-b685-4b65811c2dcf</th>\n",
              "      <td>4</td>\n",
              "      <td>2</td>\n",
              "      <td>2</td>\n",
              "      <td>1</td>\n",
              "      <td>1</td>\n",
              "      <td>1.000000</td>\n",
              "    </tr>\n",
              "    <tr>\n",
              "      <th>ffd287bc-2797-4788-82fa-6268c82e7fa9</th>\n",
              "      <td>20</td>\n",
              "      <td>10</td>\n",
              "      <td>10</td>\n",
              "      <td>2</td>\n",
              "      <td>1</td>\n",
              "      <td>1.600000</td>\n",
              "    </tr>\n",
              "    <tr>\n",
              "      <th>fffbf2b3-7853-4c07-bd2a-aae686ac9013</th>\n",
              "      <td>7</td>\n",
              "      <td>4</td>\n",
              "      <td>3</td>\n",
              "      <td>1</td>\n",
              "      <td>1</td>\n",
              "      <td>1.000000</td>\n",
              "    </tr>\n",
              "  </tbody>\n",
              "</table>\n",
              "<p>6026 rows × 6 columns</p>\n",
              "</div>"
            ],
            "text/plain": [
              "                                      total_visits  total_checkins  \\\n",
              "user_uuid                                                            \n",
              "000590dc-046f-462b-8225-4c81a97b7166             6               3   \n",
              "000be14f-ba0f-4af6-bc2c-7b00dfcbc98c            18               9   \n",
              "0018e22d-a2cc-4e06-bca2-d6a041770f3b            19              11   \n",
              "002606d9-38ca-48f3-910c-cbfada9a9109             8               4   \n",
              "002a7570-90dd-4cab-b0aa-b0e40f7ef27a            10               5   \n",
              "...                                            ...             ...   \n",
              "ffc79669-ed11-4cde-86d4-8ec232ac7b14             9               5   \n",
              "ffcb7950-d150-40ae-a6bf-f85f5c2b9702            10               5   \n",
              "ffce32ca-2efc-4485-b685-4b65811c2dcf             4               2   \n",
              "ffd287bc-2797-4788-82fa-6268c82e7fa9            20              10   \n",
              "fffbf2b3-7853-4c07-bd2a-aae686ac9013             7               4   \n",
              "\n",
              "                                      total_checkouts  unique_visit_days  \\\n",
              "user_uuid                                                                  \n",
              "000590dc-046f-462b-8225-4c81a97b7166                3                  1   \n",
              "000be14f-ba0f-4af6-bc2c-7b00dfcbc98c                9                  2   \n",
              "0018e22d-a2cc-4e06-bca2-d6a041770f3b                8                  2   \n",
              "002606d9-38ca-48f3-910c-cbfada9a9109                4                  2   \n",
              "002a7570-90dd-4cab-b0aa-b0e40f7ef27a                5                  1   \n",
              "...                                               ...                ...   \n",
              "ffc79669-ed11-4cde-86d4-8ec232ac7b14                4                  1   \n",
              "ffcb7950-d150-40ae-a6bf-f85f5c2b9702                5                  2   \n",
              "ffce32ca-2efc-4485-b685-4b65811c2dcf                2                  1   \n",
              "ffd287bc-2797-4788-82fa-6268c82e7fa9               10                  2   \n",
              "fffbf2b3-7853-4c07-bd2a-aae686ac9013                3                  1   \n",
              "\n",
              "                                      site_diversity  avg_days_since_trial  \n",
              "user_uuid                                                                   \n",
              "000590dc-046f-462b-8225-4c81a97b7166               1              1.000000  \n",
              "000be14f-ba0f-4af6-bc2c-7b00dfcbc98c               1              1.222222  \n",
              "0018e22d-a2cc-4e06-bca2-d6a041770f3b               1              1.315789  \n",
              "002606d9-38ca-48f3-910c-cbfada9a9109               1              1.500000  \n",
              "002a7570-90dd-4cab-b0aa-b0e40f7ef27a               1              1.000000  \n",
              "...                                              ...                   ...  \n",
              "ffc79669-ed11-4cde-86d4-8ec232ac7b14               1              2.000000  \n",
              "ffcb7950-d150-40ae-a6bf-f85f5c2b9702               1              1.600000  \n",
              "ffce32ca-2efc-4485-b685-4b65811c2dcf               1              1.000000  \n",
              "ffd287bc-2797-4788-82fa-6268c82e7fa9               1              1.600000  \n",
              "fffbf2b3-7853-4c07-bd2a-aae686ac9013               1              1.000000  \n",
              "\n",
              "[6026 rows x 6 columns]"
            ]
          },
          "execution_count": 39,
          "metadata": {},
          "output_type": "execute_result"
        }
      ],
      "source": [
        "checkin_stats"
      ]
    },
    {
      "cell_type": "markdown",
      "id": "9E2COS4FePWD",
      "metadata": {
        "id": "9E2COS4FePWD"
      },
      "source": [
        "### trial_visit_info 활용 파생 변수 생성"
      ]
    },
    {
      "cell_type": "code",
      "execution_count": 40,
      "id": "da06ca0e",
      "metadata": {
        "id": "da06ca0e"
      },
      "outputs": [],
      "source": [
        "trial_visit_info[\"date\"] = pd.to_datetime(trial_visit_info[\"date\"])\n",
        "\n",
        "visit_stats = (\n",
        "    trial_visit_info.groupby(\"user_uuid\")\n",
        "    .agg(\n",
        "        total_stay_days=(\"date\", \"nunique\"),\n",
        "        avg_stay_time=(\"stay_time_second\", \"mean\"),\n",
        "        max_stay_time=(\"stay_time_second\", \"max\"),\n",
        "        total_stay_time=(\"stay_time_second\", \"sum\"),\n",
        "        site_visit_diversity=(\"site_id\", \"nunique\")\n",
        "    )\n",
        ")"
      ]
    },
    {
      "cell_type": "code",
      "execution_count": 64,
      "id": "2c275692",
      "metadata": {},
      "outputs": [
        {
          "data": {
            "text/html": [
              "<div>\n",
              "<style scoped>\n",
              "    .dataframe tbody tr th:only-of-type {\n",
              "        vertical-align: middle;\n",
              "    }\n",
              "\n",
              "    .dataframe tbody tr th {\n",
              "        vertical-align: top;\n",
              "    }\n",
              "\n",
              "    .dataframe thead th {\n",
              "        text-align: right;\n",
              "    }\n",
              "</style>\n",
              "<table border=\"1\" class=\"dataframe\">\n",
              "  <thead>\n",
              "    <tr style=\"text-align: right;\">\n",
              "      <th></th>\n",
              "      <th>total_stay_days</th>\n",
              "      <th>avg_stay_time</th>\n",
              "      <th>max_stay_time</th>\n",
              "      <th>total_stay_time</th>\n",
              "      <th>site_visit_diversity</th>\n",
              "    </tr>\n",
              "    <tr>\n",
              "      <th>user_uuid</th>\n",
              "      <th></th>\n",
              "      <th></th>\n",
              "      <th></th>\n",
              "      <th></th>\n",
              "      <th></th>\n",
              "    </tr>\n",
              "  </thead>\n",
              "  <tbody>\n",
              "    <tr>\n",
              "      <th>000590dc-046f-462b-8225-4c81a97b7166</th>\n",
              "      <td>1</td>\n",
              "      <td>21417.000000</td>\n",
              "      <td>21417</td>\n",
              "      <td>21417</td>\n",
              "      <td>1</td>\n",
              "    </tr>\n",
              "    <tr>\n",
              "      <th>000be14f-ba0f-4af6-bc2c-7b00dfcbc98c</th>\n",
              "      <td>3</td>\n",
              "      <td>15189.666667</td>\n",
              "      <td>25965</td>\n",
              "      <td>45569</td>\n",
              "      <td>1</td>\n",
              "    </tr>\n",
              "    <tr>\n",
              "      <th>0018e22d-a2cc-4e06-bca2-d6a041770f3b</th>\n",
              "      <td>2</td>\n",
              "      <td>38686.000000</td>\n",
              "      <td>42900</td>\n",
              "      <td>77372</td>\n",
              "      <td>1</td>\n",
              "    </tr>\n",
              "    <tr>\n",
              "      <th>002606d9-38ca-48f3-910c-cbfada9a9109</th>\n",
              "      <td>2</td>\n",
              "      <td>12512.000000</td>\n",
              "      <td>12689</td>\n",
              "      <td>25024</td>\n",
              "      <td>1</td>\n",
              "    </tr>\n",
              "    <tr>\n",
              "      <th>002a7570-90dd-4cab-b0aa-b0e40f7ef27a</th>\n",
              "      <td>2</td>\n",
              "      <td>11804.500000</td>\n",
              "      <td>18722</td>\n",
              "      <td>23609</td>\n",
              "      <td>1</td>\n",
              "    </tr>\n",
              "    <tr>\n",
              "      <th>...</th>\n",
              "      <td>...</td>\n",
              "      <td>...</td>\n",
              "      <td>...</td>\n",
              "      <td>...</td>\n",
              "      <td>...</td>\n",
              "    </tr>\n",
              "    <tr>\n",
              "      <th>ffc79669-ed11-4cde-86d4-8ec232ac7b14</th>\n",
              "      <td>2</td>\n",
              "      <td>17292.500000</td>\n",
              "      <td>18169</td>\n",
              "      <td>34585</td>\n",
              "      <td>1</td>\n",
              "    </tr>\n",
              "    <tr>\n",
              "      <th>ffcb7950-d150-40ae-a6bf-f85f5c2b9702</th>\n",
              "      <td>2</td>\n",
              "      <td>14806.500000</td>\n",
              "      <td>15154</td>\n",
              "      <td>29613</td>\n",
              "      <td>1</td>\n",
              "    </tr>\n",
              "    <tr>\n",
              "      <th>ffce32ca-2efc-4485-b685-4b65811c2dcf</th>\n",
              "      <td>1</td>\n",
              "      <td>8450.000000</td>\n",
              "      <td>8450</td>\n",
              "      <td>8450</td>\n",
              "      <td>1</td>\n",
              "    </tr>\n",
              "    <tr>\n",
              "      <th>ffd287bc-2797-4788-82fa-6268c82e7fa9</th>\n",
              "      <td>3</td>\n",
              "      <td>17618.333333</td>\n",
              "      <td>23702</td>\n",
              "      <td>52855</td>\n",
              "      <td>1</td>\n",
              "    </tr>\n",
              "    <tr>\n",
              "      <th>fffbf2b3-7853-4c07-bd2a-aae686ac9013</th>\n",
              "      <td>1</td>\n",
              "      <td>6976.000000</td>\n",
              "      <td>6976</td>\n",
              "      <td>6976</td>\n",
              "      <td>1</td>\n",
              "    </tr>\n",
              "  </tbody>\n",
              "</table>\n",
              "<p>6534 rows × 5 columns</p>\n",
              "</div>"
            ],
            "text/plain": [
              "                                      total_stay_days  avg_stay_time  \\\n",
              "user_uuid                                                              \n",
              "000590dc-046f-462b-8225-4c81a97b7166                1   21417.000000   \n",
              "000be14f-ba0f-4af6-bc2c-7b00dfcbc98c                3   15189.666667   \n",
              "0018e22d-a2cc-4e06-bca2-d6a041770f3b                2   38686.000000   \n",
              "002606d9-38ca-48f3-910c-cbfada9a9109                2   12512.000000   \n",
              "002a7570-90dd-4cab-b0aa-b0e40f7ef27a                2   11804.500000   \n",
              "...                                               ...            ...   \n",
              "ffc79669-ed11-4cde-86d4-8ec232ac7b14                2   17292.500000   \n",
              "ffcb7950-d150-40ae-a6bf-f85f5c2b9702                2   14806.500000   \n",
              "ffce32ca-2efc-4485-b685-4b65811c2dcf                1    8450.000000   \n",
              "ffd287bc-2797-4788-82fa-6268c82e7fa9                3   17618.333333   \n",
              "fffbf2b3-7853-4c07-bd2a-aae686ac9013                1    6976.000000   \n",
              "\n",
              "                                      max_stay_time  total_stay_time  \\\n",
              "user_uuid                                                              \n",
              "000590dc-046f-462b-8225-4c81a97b7166          21417            21417   \n",
              "000be14f-ba0f-4af6-bc2c-7b00dfcbc98c          25965            45569   \n",
              "0018e22d-a2cc-4e06-bca2-d6a041770f3b          42900            77372   \n",
              "002606d9-38ca-48f3-910c-cbfada9a9109          12689            25024   \n",
              "002a7570-90dd-4cab-b0aa-b0e40f7ef27a          18722            23609   \n",
              "...                                             ...              ...   \n",
              "ffc79669-ed11-4cde-86d4-8ec232ac7b14          18169            34585   \n",
              "ffcb7950-d150-40ae-a6bf-f85f5c2b9702          15154            29613   \n",
              "ffce32ca-2efc-4485-b685-4b65811c2dcf           8450             8450   \n",
              "ffd287bc-2797-4788-82fa-6268c82e7fa9          23702            52855   \n",
              "fffbf2b3-7853-4c07-bd2a-aae686ac9013           6976             6976   \n",
              "\n",
              "                                      site_visit_diversity  \n",
              "user_uuid                                                   \n",
              "000590dc-046f-462b-8225-4c81a97b7166                     1  \n",
              "000be14f-ba0f-4af6-bc2c-7b00dfcbc98c                     1  \n",
              "0018e22d-a2cc-4e06-bca2-d6a041770f3b                     1  \n",
              "002606d9-38ca-48f3-910c-cbfada9a9109                     1  \n",
              "002a7570-90dd-4cab-b0aa-b0e40f7ef27a                     1  \n",
              "...                                                    ...  \n",
              "ffc79669-ed11-4cde-86d4-8ec232ac7b14                     1  \n",
              "ffcb7950-d150-40ae-a6bf-f85f5c2b9702                     1  \n",
              "ffce32ca-2efc-4485-b685-4b65811c2dcf                     1  \n",
              "ffd287bc-2797-4788-82fa-6268c82e7fa9                     1  \n",
              "fffbf2b3-7853-4c07-bd2a-aae686ac9013                     1  \n",
              "\n",
              "[6534 rows x 5 columns]"
            ]
          },
          "execution_count": 64,
          "metadata": {},
          "output_type": "execute_result"
        }
      ],
      "source": [
        "visit_stats"
      ]
    },
    {
      "cell_type": "code",
      "execution_count": 41,
      "id": "a493b745",
      "metadata": {
        "id": "a493b745"
      },
      "outputs": [],
      "source": [
        "# 유저 단위 결제 여부: 가장 마지막 로그 기준 (혹은 max 사용)\n",
        "user_labels = (\n",
        "    merged_df.groupby(\"user_uuid\")[\"is_payment\"]\n",
        "    .max()\n",
        "    .reset_index()\n",
        ")"
      ]
    },
    {
      "cell_type": "markdown",
      "id": "c-u1Ng7ce4dY",
      "metadata": {
        "id": "c-u1Ng7ce4dY"
      },
      "source": [
        "### 유저 기준 병합"
      ]
    },
    {
      "cell_type": "code",
      "execution_count": 42,
      "id": "80f3e5ab",
      "metadata": {
        "id": "80f3e5ab"
      },
      "outputs": [],
      "source": [
        "# 통합\n",
        "user_df = checkin_stats.join(visit_stats, how=\"outer\").join(user_labels.set_index(\"user_uuid\"))\n",
        "\n",
        "# 결측값 처리 (활동 없는 경우 0으로 간주)\n",
        "user_df = user_df.fillna(0)"
      ]
    },
    {
      "cell_type": "code",
      "execution_count": 43,
      "id": "cdfbacca",
      "metadata": {},
      "outputs": [
        {
          "data": {
            "text/html": [
              "<div>\n",
              "<style scoped>\n",
              "    .dataframe tbody tr th:only-of-type {\n",
              "        vertical-align: middle;\n",
              "    }\n",
              "\n",
              "    .dataframe tbody tr th {\n",
              "        vertical-align: top;\n",
              "    }\n",
              "\n",
              "    .dataframe thead th {\n",
              "        text-align: right;\n",
              "    }\n",
              "</style>\n",
              "<table border=\"1\" class=\"dataframe\">\n",
              "  <thead>\n",
              "    <tr style=\"text-align: right;\">\n",
              "      <th></th>\n",
              "      <th>total_visits</th>\n",
              "      <th>total_checkins</th>\n",
              "      <th>total_checkouts</th>\n",
              "      <th>unique_visit_days</th>\n",
              "      <th>site_diversity</th>\n",
              "      <th>avg_days_since_trial</th>\n",
              "      <th>total_stay_days</th>\n",
              "      <th>avg_stay_time</th>\n",
              "      <th>max_stay_time</th>\n",
              "      <th>total_stay_time</th>\n",
              "      <th>site_visit_diversity</th>\n",
              "      <th>is_payment</th>\n",
              "    </tr>\n",
              "    <tr>\n",
              "      <th>user_uuid</th>\n",
              "      <th></th>\n",
              "      <th></th>\n",
              "      <th></th>\n",
              "      <th></th>\n",
              "      <th></th>\n",
              "      <th></th>\n",
              "      <th></th>\n",
              "      <th></th>\n",
              "      <th></th>\n",
              "      <th></th>\n",
              "      <th></th>\n",
              "      <th></th>\n",
              "    </tr>\n",
              "  </thead>\n",
              "  <tbody>\n",
              "    <tr>\n",
              "      <th>000590dc-046f-462b-8225-4c81a97b7166</th>\n",
              "      <td>6.0</td>\n",
              "      <td>3.0</td>\n",
              "      <td>3.0</td>\n",
              "      <td>1.0</td>\n",
              "      <td>1.0</td>\n",
              "      <td>1.000000</td>\n",
              "      <td>1.0</td>\n",
              "      <td>21417.000000</td>\n",
              "      <td>21417.0</td>\n",
              "      <td>21417.0</td>\n",
              "      <td>1.0</td>\n",
              "      <td>0.0</td>\n",
              "    </tr>\n",
              "    <tr>\n",
              "      <th>000be14f-ba0f-4af6-bc2c-7b00dfcbc98c</th>\n",
              "      <td>18.0</td>\n",
              "      <td>9.0</td>\n",
              "      <td>9.0</td>\n",
              "      <td>2.0</td>\n",
              "      <td>1.0</td>\n",
              "      <td>1.222222</td>\n",
              "      <td>3.0</td>\n",
              "      <td>15189.666667</td>\n",
              "      <td>25965.0</td>\n",
              "      <td>45569.0</td>\n",
              "      <td>1.0</td>\n",
              "      <td>1.0</td>\n",
              "    </tr>\n",
              "    <tr>\n",
              "      <th>0018e22d-a2cc-4e06-bca2-d6a041770f3b</th>\n",
              "      <td>19.0</td>\n",
              "      <td>11.0</td>\n",
              "      <td>8.0</td>\n",
              "      <td>2.0</td>\n",
              "      <td>1.0</td>\n",
              "      <td>1.315789</td>\n",
              "      <td>2.0</td>\n",
              "      <td>38686.000000</td>\n",
              "      <td>42900.0</td>\n",
              "      <td>77372.0</td>\n",
              "      <td>1.0</td>\n",
              "      <td>0.0</td>\n",
              "    </tr>\n",
              "    <tr>\n",
              "      <th>002606d9-38ca-48f3-910c-cbfada9a9109</th>\n",
              "      <td>8.0</td>\n",
              "      <td>4.0</td>\n",
              "      <td>4.0</td>\n",
              "      <td>2.0</td>\n",
              "      <td>1.0</td>\n",
              "      <td>1.500000</td>\n",
              "      <td>2.0</td>\n",
              "      <td>12512.000000</td>\n",
              "      <td>12689.0</td>\n",
              "      <td>25024.0</td>\n",
              "      <td>1.0</td>\n",
              "      <td>0.0</td>\n",
              "    </tr>\n",
              "    <tr>\n",
              "      <th>002a7570-90dd-4cab-b0aa-b0e40f7ef27a</th>\n",
              "      <td>10.0</td>\n",
              "      <td>5.0</td>\n",
              "      <td>5.0</td>\n",
              "      <td>1.0</td>\n",
              "      <td>1.0</td>\n",
              "      <td>1.000000</td>\n",
              "      <td>2.0</td>\n",
              "      <td>11804.500000</td>\n",
              "      <td>18722.0</td>\n",
              "      <td>23609.0</td>\n",
              "      <td>1.0</td>\n",
              "      <td>1.0</td>\n",
              "    </tr>\n",
              "    <tr>\n",
              "      <th>...</th>\n",
              "      <td>...</td>\n",
              "      <td>...</td>\n",
              "      <td>...</td>\n",
              "      <td>...</td>\n",
              "      <td>...</td>\n",
              "      <td>...</td>\n",
              "      <td>...</td>\n",
              "      <td>...</td>\n",
              "      <td>...</td>\n",
              "      <td>...</td>\n",
              "      <td>...</td>\n",
              "      <td>...</td>\n",
              "    </tr>\n",
              "    <tr>\n",
              "      <th>ffc79669-ed11-4cde-86d4-8ec232ac7b14</th>\n",
              "      <td>9.0</td>\n",
              "      <td>5.0</td>\n",
              "      <td>4.0</td>\n",
              "      <td>1.0</td>\n",
              "      <td>1.0</td>\n",
              "      <td>2.000000</td>\n",
              "      <td>2.0</td>\n",
              "      <td>17292.500000</td>\n",
              "      <td>18169.0</td>\n",
              "      <td>34585.0</td>\n",
              "      <td>1.0</td>\n",
              "      <td>0.0</td>\n",
              "    </tr>\n",
              "    <tr>\n",
              "      <th>ffcb7950-d150-40ae-a6bf-f85f5c2b9702</th>\n",
              "      <td>10.0</td>\n",
              "      <td>5.0</td>\n",
              "      <td>5.0</td>\n",
              "      <td>2.0</td>\n",
              "      <td>1.0</td>\n",
              "      <td>1.600000</td>\n",
              "      <td>2.0</td>\n",
              "      <td>14806.500000</td>\n",
              "      <td>15154.0</td>\n",
              "      <td>29613.0</td>\n",
              "      <td>1.0</td>\n",
              "      <td>0.0</td>\n",
              "    </tr>\n",
              "    <tr>\n",
              "      <th>ffce32ca-2efc-4485-b685-4b65811c2dcf</th>\n",
              "      <td>4.0</td>\n",
              "      <td>2.0</td>\n",
              "      <td>2.0</td>\n",
              "      <td>1.0</td>\n",
              "      <td>1.0</td>\n",
              "      <td>1.000000</td>\n",
              "      <td>1.0</td>\n",
              "      <td>8450.000000</td>\n",
              "      <td>8450.0</td>\n",
              "      <td>8450.0</td>\n",
              "      <td>1.0</td>\n",
              "      <td>0.0</td>\n",
              "    </tr>\n",
              "    <tr>\n",
              "      <th>ffd287bc-2797-4788-82fa-6268c82e7fa9</th>\n",
              "      <td>20.0</td>\n",
              "      <td>10.0</td>\n",
              "      <td>10.0</td>\n",
              "      <td>2.0</td>\n",
              "      <td>1.0</td>\n",
              "      <td>1.600000</td>\n",
              "      <td>3.0</td>\n",
              "      <td>17618.333333</td>\n",
              "      <td>23702.0</td>\n",
              "      <td>52855.0</td>\n",
              "      <td>1.0</td>\n",
              "      <td>0.0</td>\n",
              "    </tr>\n",
              "    <tr>\n",
              "      <th>fffbf2b3-7853-4c07-bd2a-aae686ac9013</th>\n",
              "      <td>7.0</td>\n",
              "      <td>4.0</td>\n",
              "      <td>3.0</td>\n",
              "      <td>1.0</td>\n",
              "      <td>1.0</td>\n",
              "      <td>1.000000</td>\n",
              "      <td>1.0</td>\n",
              "      <td>6976.000000</td>\n",
              "      <td>6976.0</td>\n",
              "      <td>6976.0</td>\n",
              "      <td>1.0</td>\n",
              "      <td>0.0</td>\n",
              "    </tr>\n",
              "  </tbody>\n",
              "</table>\n",
              "<p>6537 rows × 12 columns</p>\n",
              "</div>"
            ],
            "text/plain": [
              "                                      total_visits  total_checkins  \\\n",
              "user_uuid                                                            \n",
              "000590dc-046f-462b-8225-4c81a97b7166           6.0             3.0   \n",
              "000be14f-ba0f-4af6-bc2c-7b00dfcbc98c          18.0             9.0   \n",
              "0018e22d-a2cc-4e06-bca2-d6a041770f3b          19.0            11.0   \n",
              "002606d9-38ca-48f3-910c-cbfada9a9109           8.0             4.0   \n",
              "002a7570-90dd-4cab-b0aa-b0e40f7ef27a          10.0             5.0   \n",
              "...                                            ...             ...   \n",
              "ffc79669-ed11-4cde-86d4-8ec232ac7b14           9.0             5.0   \n",
              "ffcb7950-d150-40ae-a6bf-f85f5c2b9702          10.0             5.0   \n",
              "ffce32ca-2efc-4485-b685-4b65811c2dcf           4.0             2.0   \n",
              "ffd287bc-2797-4788-82fa-6268c82e7fa9          20.0            10.0   \n",
              "fffbf2b3-7853-4c07-bd2a-aae686ac9013           7.0             4.0   \n",
              "\n",
              "                                      total_checkouts  unique_visit_days  \\\n",
              "user_uuid                                                                  \n",
              "000590dc-046f-462b-8225-4c81a97b7166              3.0                1.0   \n",
              "000be14f-ba0f-4af6-bc2c-7b00dfcbc98c              9.0                2.0   \n",
              "0018e22d-a2cc-4e06-bca2-d6a041770f3b              8.0                2.0   \n",
              "002606d9-38ca-48f3-910c-cbfada9a9109              4.0                2.0   \n",
              "002a7570-90dd-4cab-b0aa-b0e40f7ef27a              5.0                1.0   \n",
              "...                                               ...                ...   \n",
              "ffc79669-ed11-4cde-86d4-8ec232ac7b14              4.0                1.0   \n",
              "ffcb7950-d150-40ae-a6bf-f85f5c2b9702              5.0                2.0   \n",
              "ffce32ca-2efc-4485-b685-4b65811c2dcf              2.0                1.0   \n",
              "ffd287bc-2797-4788-82fa-6268c82e7fa9             10.0                2.0   \n",
              "fffbf2b3-7853-4c07-bd2a-aae686ac9013              3.0                1.0   \n",
              "\n",
              "                                      site_diversity  avg_days_since_trial  \\\n",
              "user_uuid                                                                    \n",
              "000590dc-046f-462b-8225-4c81a97b7166             1.0              1.000000   \n",
              "000be14f-ba0f-4af6-bc2c-7b00dfcbc98c             1.0              1.222222   \n",
              "0018e22d-a2cc-4e06-bca2-d6a041770f3b             1.0              1.315789   \n",
              "002606d9-38ca-48f3-910c-cbfada9a9109             1.0              1.500000   \n",
              "002a7570-90dd-4cab-b0aa-b0e40f7ef27a             1.0              1.000000   \n",
              "...                                              ...                   ...   \n",
              "ffc79669-ed11-4cde-86d4-8ec232ac7b14             1.0              2.000000   \n",
              "ffcb7950-d150-40ae-a6bf-f85f5c2b9702             1.0              1.600000   \n",
              "ffce32ca-2efc-4485-b685-4b65811c2dcf             1.0              1.000000   \n",
              "ffd287bc-2797-4788-82fa-6268c82e7fa9             1.0              1.600000   \n",
              "fffbf2b3-7853-4c07-bd2a-aae686ac9013             1.0              1.000000   \n",
              "\n",
              "                                      total_stay_days  avg_stay_time  \\\n",
              "user_uuid                                                              \n",
              "000590dc-046f-462b-8225-4c81a97b7166              1.0   21417.000000   \n",
              "000be14f-ba0f-4af6-bc2c-7b00dfcbc98c              3.0   15189.666667   \n",
              "0018e22d-a2cc-4e06-bca2-d6a041770f3b              2.0   38686.000000   \n",
              "002606d9-38ca-48f3-910c-cbfada9a9109              2.0   12512.000000   \n",
              "002a7570-90dd-4cab-b0aa-b0e40f7ef27a              2.0   11804.500000   \n",
              "...                                               ...            ...   \n",
              "ffc79669-ed11-4cde-86d4-8ec232ac7b14              2.0   17292.500000   \n",
              "ffcb7950-d150-40ae-a6bf-f85f5c2b9702              2.0   14806.500000   \n",
              "ffce32ca-2efc-4485-b685-4b65811c2dcf              1.0    8450.000000   \n",
              "ffd287bc-2797-4788-82fa-6268c82e7fa9              3.0   17618.333333   \n",
              "fffbf2b3-7853-4c07-bd2a-aae686ac9013              1.0    6976.000000   \n",
              "\n",
              "                                      max_stay_time  total_stay_time  \\\n",
              "user_uuid                                                              \n",
              "000590dc-046f-462b-8225-4c81a97b7166        21417.0          21417.0   \n",
              "000be14f-ba0f-4af6-bc2c-7b00dfcbc98c        25965.0          45569.0   \n",
              "0018e22d-a2cc-4e06-bca2-d6a041770f3b        42900.0          77372.0   \n",
              "002606d9-38ca-48f3-910c-cbfada9a9109        12689.0          25024.0   \n",
              "002a7570-90dd-4cab-b0aa-b0e40f7ef27a        18722.0          23609.0   \n",
              "...                                             ...              ...   \n",
              "ffc79669-ed11-4cde-86d4-8ec232ac7b14        18169.0          34585.0   \n",
              "ffcb7950-d150-40ae-a6bf-f85f5c2b9702        15154.0          29613.0   \n",
              "ffce32ca-2efc-4485-b685-4b65811c2dcf         8450.0           8450.0   \n",
              "ffd287bc-2797-4788-82fa-6268c82e7fa9        23702.0          52855.0   \n",
              "fffbf2b3-7853-4c07-bd2a-aae686ac9013         6976.0           6976.0   \n",
              "\n",
              "                                      site_visit_diversity  is_payment  \n",
              "user_uuid                                                               \n",
              "000590dc-046f-462b-8225-4c81a97b7166                   1.0         0.0  \n",
              "000be14f-ba0f-4af6-bc2c-7b00dfcbc98c                   1.0         1.0  \n",
              "0018e22d-a2cc-4e06-bca2-d6a041770f3b                   1.0         0.0  \n",
              "002606d9-38ca-48f3-910c-cbfada9a9109                   1.0         0.0  \n",
              "002a7570-90dd-4cab-b0aa-b0e40f7ef27a                   1.0         1.0  \n",
              "...                                                    ...         ...  \n",
              "ffc79669-ed11-4cde-86d4-8ec232ac7b14                   1.0         0.0  \n",
              "ffcb7950-d150-40ae-a6bf-f85f5c2b9702                   1.0         0.0  \n",
              "ffce32ca-2efc-4485-b685-4b65811c2dcf                   1.0         0.0  \n",
              "ffd287bc-2797-4788-82fa-6268c82e7fa9                   1.0         0.0  \n",
              "fffbf2b3-7853-4c07-bd2a-aae686ac9013                   1.0         0.0  \n",
              "\n",
              "[6537 rows x 12 columns]"
            ]
          },
          "execution_count": 43,
          "metadata": {},
          "output_type": "execute_result"
        }
      ],
      "source": [
        "user_df"
      ]
    },
    {
      "cell_type": "code",
      "execution_count": 44,
      "id": "ac6d7c06",
      "metadata": {
        "id": "ac6d7c06"
      },
      "outputs": [],
      "source": [
        "# 1. visit_info_df에서 시간 정보 추출\n",
        "trial_visit_info[\"first_enter_time\"] = pd.to_datetime(trial_visit_info[\"first_enter_time\"], errors=\"coerce\", format='mixed')\n",
        "trial_visit_info[\"visit_hour\"] = pd.to_datetime(trial_visit_info[\"first_enter_time\"]).dt.hour\n",
        "trial_visit_info[\"weekday\"] = pd.to_datetime(trial_visit_info[\"date\"]).dt.weekday\n",
        "\n",
        "# 2. 시간대 플래그\n",
        "trial_visit_info[\"is_morning\"] = trial_visit_info[\"visit_hour\"].between(6, 11)\n",
        "trial_visit_info[\"is_evening\"] = trial_visit_info[\"visit_hour\"].between(18, 23)\n",
        "trial_visit_info[\"is_weekend\"] = trial_visit_info[\"weekday\"].isin([5, 6])\n",
        "trial_visit_info[\"is_office_hour\"] = trial_visit_info[\"visit_hour\"].between(9, 18)\n",
        "trial_visit_info[\"is_late_night\"] = (trial_visit_info[\"visit_hour\"] < 6) | (trial_visit_info[\"visit_hour\"] >= 22)\n",
        "\n",
        "# 3. 유저별 비율 집계\n",
        "time_features = trial_visit_info.groupby(\"user_uuid\").agg(\n",
        "    morning_visit_ratio=(\"is_morning\", \"mean\"),\n",
        "    evening_visit_ratio=(\"is_evening\", \"mean\"),\n",
        "    weekend_visit_ratio=(\"is_weekend\", \"mean\"),\n",
        "    office_hour_ratio=(\"is_office_hour\", \"mean\"),\n",
        "    late_night_ratio=(\"is_late_night\", \"mean\")\n",
        ")"
      ]
    },
    {
      "cell_type": "code",
      "execution_count": 45,
      "id": "e84eb1ed",
      "metadata": {
        "id": "e84eb1ed"
      },
      "outputs": [],
      "source": [
        "user_df = user_df.join(time_features, how=\"left\").fillna(0)"
      ]
    },
    {
      "cell_type": "code",
      "execution_count": 66,
      "id": "96ff851d",
      "metadata": {},
      "outputs": [
        {
          "data": {
            "text/plain": [
              "Index(['total_visits', 'total_checkins', 'total_checkouts',\n",
              "       'unique_visit_days', 'site_diversity', 'avg_days_since_trial',\n",
              "       'total_stay_days', 'avg_stay_time', 'max_stay_time', 'total_stay_time',\n",
              "       'site_visit_diversity', 'is_payment', 'morning_visit_ratio',\n",
              "       'evening_visit_ratio', 'weekend_visit_ratio', 'office_hour_ratio',\n",
              "       'late_night_ratio'],\n",
              "      dtype='object')"
            ]
          },
          "execution_count": 66,
          "metadata": {},
          "output_type": "execute_result"
        }
      ],
      "source": [
        "user_df.columns"
      ]
    },
    {
      "cell_type": "markdown",
      "id": "197fab7f",
      "metadata": {
        "id": "197fab7f"
      },
      "source": [
        "## RandomForest"
      ]
    },
    {
      "cell_type": "markdown",
      "id": "b24d69dc",
      "metadata": {
        "id": "b24d69dc"
      },
      "source": [
        "```\n",
        "# 기존 (현진님 피쳐 추가 전)\n",
        "\n",
        "              precision    recall  f1-score   support\n",
        "\n",
        "         0.0       0.69      0.77      0.73       840\n",
        "         1.0       0.48      0.38      0.42       468\n",
        "\n",
        "    accuracy                           0.63      1308\n",
        "   macro avg       0.58      0.57      0.58      1308\n",
        "weighted avg       0.61      0.63      0.62      1308\n",
        "\n",
        "```"
      ]
    },
    {
      "cell_type": "markdown",
      "id": "nv5J48A_fE5l",
      "metadata": {
        "id": "nv5J48A_fE5l"
      },
      "source": [
        "### 기본 모델"
      ]
    },
    {
      "cell_type": "code",
      "execution_count": 46,
      "id": "9ab3f5c6",
      "metadata": {
        "id": "9ab3f5c6"
      },
      "outputs": [
        {
          "name": "stdout",
          "output_type": "stream",
          "text": [
            "              precision    recall  f1-score   support\n",
            "\n",
            "         0.0       0.69      0.82      0.75       840\n",
            "         1.0       0.52      0.35      0.42       468\n",
            "\n",
            "    accuracy                           0.65      1308\n",
            "   macro avg       0.61      0.59      0.59      1308\n",
            "weighted avg       0.63      0.65      0.63      1308\n",
            "\n"
          ]
        }
      ],
      "source": [
        "from sklearn.model_selection import train_test_split\n",
        "from sklearn.ensemble import RandomForestClassifier\n",
        "from sklearn.metrics import classification_report\n",
        "\n",
        "X = user_df.drop(columns=\"is_payment\")\n",
        "y = user_df[\"is_payment\"]\n",
        "\n",
        "X_train, X_test, y_train, y_test = train_test_split(X, y, stratify=y, test_size=0.2, random_state=42)\n",
        "\n",
        "model = RandomForestClassifier(random_state=42, class_weight=\"balanced\")\n",
        "model.fit(X_train, y_train)\n",
        "\n",
        "y_pred = model.predict(X_test)\n",
        "print(classification_report(y_test, y_pred))"
      ]
    },
    {
      "cell_type": "markdown",
      "id": "d02030a2",
      "metadata": {
        "id": "d02030a2"
      },
      "source": [
        "```\n",
        "# 기존 (현진님 피쳐 추가 전)\n",
        "\n",
        "                 feature  importance\n",
        "0          max_stay_time    0.207299\n",
        "1          avg_stay_time    0.204645\n",
        "2        total_stay_time    0.198616\n",
        "3   avg_days_since_trial    0.086409\n",
        "4           total_visits    0.084404\n",
        "5         total_checkins    0.064889\n",
        "6        total_checkouts    0.063427\n",
        "7      unique_visit_days    0.033567\n",
        "8        total_stay_days    0.033285\n",
        "9         site_diversity    0.015997\n",
        "10  site_visit_diversity    0.007463\n",
        "```"
      ]
    },
    {
      "cell_type": "code",
      "execution_count": 47,
      "id": "b3ff11b7",
      "metadata": {
        "id": "b3ff11b7"
      },
      "outputs": [
        {
          "name": "stdout",
          "output_type": "stream",
          "text": [
            "                 feature  importance\n",
            "0          avg_stay_time    0.172688\n",
            "1          max_stay_time    0.170049\n",
            "2        total_stay_time    0.163814\n",
            "3           total_visits    0.079064\n",
            "4   avg_days_since_trial    0.078951\n",
            "5         total_checkins    0.070257\n",
            "6        total_checkouts    0.060982\n",
            "7       late_night_ratio    0.034642\n",
            "8    weekend_visit_ratio    0.032403\n",
            "9    evening_visit_ratio    0.031580\n",
            "10       total_stay_days    0.030677\n",
            "11     unique_visit_days    0.024001\n",
            "12     office_hour_ratio    0.020606\n",
            "13        site_diversity    0.014332\n",
            "14   morning_visit_ratio    0.009377\n",
            "15  site_visit_diversity    0.006577\n"
          ]
        }
      ],
      "source": [
        "# 피처 중요도 추출\n",
        "feature_importance = pd.Series(model.feature_importances_, index=X.columns)\n",
        "feature_importance = feature_importance.sort_values(ascending=False)\n",
        "\n",
        "# 중요도 테이블 출력\n",
        "importance_df = feature_importance.reset_index()\n",
        "importance_df.columns = [\"feature\", \"importance\"]\n",
        "print(importance_df)"
      ]
    },
    {
      "cell_type": "code",
      "execution_count": 48,
      "id": "de4285c0",
      "metadata": {
        "id": "de4285c0"
      },
      "outputs": [
        {
          "data": {
            "image/png": "[encoded data removed]",
            "text/plain": [
              "<Figure size 800x600 with 1 Axes>"
            ]
          },
          "metadata": {},
          "output_type": "display_data"
        }
      ],
      "source": [
        "feat_imp = pd.Series(model.feature_importances_, index=X.columns).sort_values(ascending=False)\n",
        "plt.figure(figsize=(8, 6))\n",
        "sns.barplot(x=feat_imp, y=feat_imp.index)\n",
        "plt.title(\"RF Feature Importance\")\n",
        "plt.tight_layout()\n",
        "plt.show()"
      ]
    },
    {
      "cell_type": "markdown",
      "id": "ad29866d",
      "metadata": {
        "id": "ad29866d"
      },
      "source": [
        "### SMOTE 적용"
      ]
    },
    {
      "cell_type": "code",
      "execution_count": 49,
      "id": "5ba24805",
      "metadata": {
        "id": "5ba24805"
      },
      "outputs": [
        {
          "name": "stdout",
          "output_type": "stream",
          "text": [
            "              precision    recall  f1-score   support\n",
            "\n",
            "         0.0       0.71      0.74      0.72       840\n",
            "         1.0       0.49      0.44      0.47       468\n",
            "\n",
            "    accuracy                           0.64      1308\n",
            "   macro avg       0.60      0.59      0.59      1308\n",
            "weighted avg       0.63      0.64      0.63      1308\n",
            "\n"
          ]
        }
      ],
      "source": [
        "from imblearn.over_sampling import SMOTE\n",
        "\n",
        "sm = SMOTE(random_state=42)\n",
        "X_res, y_res = sm.fit_resample(X_train, y_train)\n",
        "\n",
        "model_sm = RandomForestClassifier(random_state=42)\n",
        "model_sm.fit(X_res, y_res)\n",
        "print(classification_report(y_test, model_sm.predict(X_test)))"
      ]
    },
    {
      "cell_type": "code",
      "execution_count": 50,
      "id": "56d0b947",
      "metadata": {
        "id": "56d0b947"
      },
      "outputs": [
        {
          "name": "stdout",
          "output_type": "stream",
          "text": [
            "                 feature  importance\n",
            "0          avg_stay_time    0.142563\n",
            "1          max_stay_time    0.138264\n",
            "2        total_stay_time    0.134212\n",
            "3   avg_days_since_trial    0.093449\n",
            "4         total_checkins    0.069817\n",
            "5    evening_visit_ratio    0.068405\n",
            "6           total_visits    0.065011\n",
            "7        total_checkouts    0.063539\n",
            "8       late_night_ratio    0.055213\n",
            "9    weekend_visit_ratio    0.051085\n",
            "10     unique_visit_days    0.031898\n",
            "11     office_hour_ratio    0.026868\n",
            "12       total_stay_days    0.026724\n",
            "13        site_diversity    0.014296\n",
            "14   morning_visit_ratio    0.009547\n",
            "15  site_visit_diversity    0.009109\n"
          ]
        }
      ],
      "source": [
        "# 피처 중요도 추출\n",
        "feature_importance = pd.Series(model_sm.feature_importances_, index=X.columns)\n",
        "feature_importance = feature_importance.sort_values(ascending=False)\n",
        "\n",
        "# 중요도 테이블 출력\n",
        "importance_df = feature_importance.reset_index()\n",
        "importance_df.columns = [\"feature\", \"importance\"]\n",
        "print(importance_df)"
      ]
    },
    {
      "cell_type": "code",
      "execution_count": 51,
      "id": "4472ae2f",
      "metadata": {
        "id": "4472ae2f"
      },
      "outputs": [
        {
          "data": {
            "image/png": "[encoded data removed]",
            "text/plain": [
              "<Figure size 800x600 with 1 Axes>"
            ]
          },
          "metadata": {},
          "output_type": "display_data"
        }
      ],
      "source": [
        "feat_imp = pd.Series(model_sm.feature_importances_, index=X.columns).sort_values(ascending=False)\n",
        "plt.figure(figsize=(8, 6))\n",
        "sns.barplot(x=feat_imp, y=feat_imp.index)\n",
        "plt.title(\"RF Feature Importance(SMOTE)\")\n",
        "plt.tight_layout()\n",
        "plt.show()"
      ]
    },
    {
      "cell_type": "markdown",
      "id": "6b7eb193",
      "metadata": {
        "id": "6b7eb193"
      },
      "source": [
        "### 하이퍼파라미터 튜닝"
      ]
    },
    {
      "cell_type": "code",
      "execution_count": 52,
      "id": "4bf43ef6",
      "metadata": {
        "id": "4bf43ef6"
      },
      "outputs": [],
      "source": [
        "from sklearn.model_selection import GridSearchCV"
      ]
    },
    {
      "cell_type": "markdown",
      "id": "c177e92d",
      "metadata": {
        "id": "c177e92d"
      },
      "source": [
        "```python\n",
        "# 튜닝할 파라미터 그리드 정의\n",
        "param_grid = {\n",
        "    \"n_estimators\": [100, 200],\n",
        "    \"max_depth\": [None, 10, 20],\n",
        "    \"min_samples_split\": [2, 5, 10],\n",
        "    \"min_samples_leaf\": [1, 2, 4],\n",
        "    \"max_features\": [\"sqrt\", \"log2\"],\n",
        "}\n",
        "\n",
        "# 랜덤 포레스트 모델 객체\n",
        "rf_base = RandomForestClassifier(random_state=42, class_weight=\"balanced\")\n",
        "\n",
        "# GridSearchCV 객체 생성\n",
        "grid_search = GridSearchCV(estimator=rf_base, param_grid=param_grid, scoring=\"roc_auc\", cv=3, n_jobs=-1, verbose=2)\n",
        "\n",
        "# 하이퍼파라미터 튜닝 실행\n",
        "grid_search.fit(X_res, y_res)\n",
        "\n",
        "# 최적 모델 추출\n",
        "best_rf = grid_search.best_estimator_\n",
        "\n",
        "print(\"✅ 최적 하이퍼파라미터:\")\n",
        "print(grid_search.best_params_)\n",
        "```"
      ]
    },
    {
      "cell_type": "markdown",
      "id": "fc4765d1",
      "metadata": {
        "id": "fc4765d1"
      },
      "source": [
        "```python\n",
        "# 튜닝할 파라미터 그리드 정의\n",
        "param_grid = {\n",
        "    \"n_estimators\": [200, 300, 400],\n",
        "    \"max_depth\": [20, 30, 40],\n",
        "    \"min_samples_split\": [2, 3, 4],\n",
        "    \"min_samples_leaf\": [1, 2],\n",
        "    \"max_features\": [\"sqrt\"],\n",
        "}\n",
        "\n",
        "# 랜덤 포레스트 모델 객체\n",
        "rf_base = RandomForestClassifier(random_state=42, class_weight=\"balanced\")\n",
        "\n",
        "# GridSearchCV 객체 생성\n",
        "grid_search = GridSearchCV(estimator=rf_base, param_grid=param_grid, scoring=\"roc_auc\", cv=3, n_jobs=-1, verbose=2)\n",
        "\n",
        "# 하이퍼파라미터 튜닝 실행\n",
        "grid_search.fit(X_res, y_res)\n",
        "\n",
        "# 최적 모델 추출\n",
        "best_rf = grid_search.best_estimator_\n",
        "\n",
        "print(\"✅ 최적 하이퍼파라미터:\")\n",
        "print(grid_search.best_params_)\n",
        "```"
      ]
    },
    {
      "cell_type": "code",
      "execution_count": 53,
      "id": "23fc164c",
      "metadata": {
        "colab": {
          "base_uri": "https://localhost:8080/"
        },
        "id": "23fc164c",
        "outputId": "70d1fd1f-577e-421f-e043-54d8aab4b51d"
      },
      "outputs": [
        {
          "name": "stdout",
          "output_type": "stream",
          "text": [
            "Fitting 3 folds for each of 1 candidates, totalling 3 fits\n",
            "✅ 최적 하이퍼파라미터:\n",
            "{'max_depth': 20, 'max_features': 'sqrt', 'min_samples_leaf': 1, 'min_samples_split': 2, 'n_estimators': 550}\n"
          ]
        }
      ],
      "source": [
        "# 튜닝할 파라미터 그리드 정의\n",
        "param_grid = {\n",
        "    \"n_estimators\": [550],\n",
        "    \"max_depth\": [20],\n",
        "    \"min_samples_split\": [2],\n",
        "    \"min_samples_leaf\": [1],\n",
        "    \"max_features\": [\"sqrt\"],\n",
        "}\n",
        "\n",
        "# 랜덤 포레스트 모델 객체\n",
        "rf_base = RandomForestClassifier(random_state=42, class_weight=\"balanced\")\n",
        "\n",
        "# GridSearchCV 객체 생성\n",
        "grid_search = GridSearchCV(estimator=rf_base, param_grid=param_grid, scoring=\"roc_auc\", cv=3, n_jobs=-1, verbose=2)\n",
        "\n",
        "# 하이퍼파라미터 튜닝 실행\n",
        "grid_search.fit(X_res, y_res)\n",
        "\n",
        "# 최적 모델 추출\n",
        "best_rf = grid_search.best_estimator_\n",
        "\n",
        "print(\"✅ 최적 하이퍼파라미터:\")\n",
        "print(grid_search.best_params_)"
      ]
    },
    {
      "cell_type": "code",
      "execution_count": 54,
      "id": "0d345a87",
      "metadata": {
        "colab": {
          "base_uri": "https://localhost:8080/"
        },
        "id": "0d345a87",
        "outputId": "90d51483-a721-47c6-fb1e-63ae55fea4f5"
      },
      "outputs": [
        {
          "name": "stdout",
          "output_type": "stream",
          "text": [
            "              precision    recall  f1-score   support\n",
            "\n",
            "         0.0       0.71      0.74      0.73       840\n",
            "         1.0       0.50      0.45      0.47       468\n",
            "\n",
            "    accuracy                           0.64      1308\n",
            "   macro avg       0.60      0.60      0.60      1308\n",
            "weighted avg       0.63      0.64      0.64      1308\n",
            "\n"
          ]
        }
      ],
      "source": [
        "# 테스트셋에 대해 예측 수행\n",
        "y_pred = best_rf.predict(X_test)\n",
        "\n",
        "# classification report 출력\n",
        "print(classification_report(y_test, y_pred, digits=2))"
      ]
    },
    {
      "cell_type": "markdown",
      "id": "37fe6a35",
      "metadata": {
        "id": "37fe6a35"
      },
      "source": [
        "```\n",
        "# 튜닝 전\n",
        "\n",
        "              precision    recall  f1-score   support\n",
        "\n",
        "         0.0       0.71      0.74      0.72       840\n",
        "         1.0       0.49      0.44      0.46       468\n",
        "\n",
        "    accuracy                           0.64      1308\n",
        "   macro avg       0.60      0.59      0.59      1308\n",
        "weighted avg       0.63      0.64      0.63      1308\n",
        "```"
      ]
    },
    {
      "cell_type": "markdown",
      "id": "a2372a87",
      "metadata": {
        "id": "a2372a87"
      },
      "source": [
        "1. Accuracy (정확도)\n",
        "    - 튜닝 전: 0.64\n",
        "    - 튜닝 후: 0.63\n",
        "        \n",
        "        → 0.01 하락"
      ]
    },
    {
      "cell_type": "markdown",
      "id": "6fa59c85",
      "metadata": {
        "id": "6fa59c85"
      },
      "source": [
        "2. 클래스별 성능 비교\n",
        "- 클래스 0.0 (비가입 예측)\n",
        "\n",
        "|지표|튜닝 전|튜닝 후|변화|\n",
        "|---|---|---|---|\n",
        "|Precision|0.70|0.71|▲ +0.01|\n",
        "|Recall|0.75|0.74|▼ -0.01|\n",
        "|F1-score|0.72|0.72|→ 동일|\n",
        "\n",
        "- 클래스 1.0 (가입 예측 - 소수 클래스)\n",
        "\n",
        "|지표|튜닝 전|튜닝 후|변화|\n",
        "|---|---|---|---|\n",
        "|Precision|0.48|0.49|▲ +0.01|\n",
        "|Recall|0.42|0.44|▲ +0.02|\n",
        "|F1-score|0.45|0.46|▲ +0.01|"
      ]
    },
    {
      "cell_type": "markdown",
      "id": "1f61e66e",
      "metadata": {
        "id": "1f61e66e"
      },
      "source": [
        "3. 평균 성능 (Macro / Weighted Avg)\n",
        "\n",
        "|지표|튜닝 전|튜닝 후|변화|\n",
        "|---|---|---|---|\n",
        "|Macro F1|0.59|0.59|→ 동일|\n",
        "|Weighted F1|0.63|0.63|→ 동일|"
      ]
    },
    {
      "cell_type": "markdown",
      "id": "41f327fb",
      "metadata": {
        "id": "41f327fb"
      },
      "source": [
        "- 해석 요약\n",
        "    - 튜닝 후 약간의 성능 향상이 있으나 전반적으로 큰 변화는 없음\n",
        "    - 특히 가입 예측 클래스(1.0)의 recall이 소폭 향상되었지만, 여전히 precision과 recall 모두 낮아 소수 클래스 예측 성능이 부족함\n",
        "    - Macro 평균이 그대로인 점을 보면 모든 클래스에 대한 전반적인 균형 개선은 아직 미미함"
      ]
    },
    {
      "cell_type": "markdown",
      "id": "5ce1d6ee",
      "metadata": {
        "id": "5ce1d6ee"
      },
      "source": [
        "- 다음 개선 방향 제안\n",
        "    - 리콜 중심의 threshold 조정 (특히 클래스 1.0의 민감도 중요 시)\n",
        "    - 앙상블 기법 도입: 예) RandomForest + XGBoost soft voting\n",
        "    - 더 많은 파생 변수(feature engineering) 생성"
      ]
    },
    {
      "cell_type": "code",
      "execution_count": 55,
      "id": "d8c9c532",
      "metadata": {
        "colab": {
          "base_uri": "https://localhost:8080/",
          "height": 484
        },
        "id": "d8c9c532",
        "outputId": "ce84f815-3a69-4d94-a1d6-b5800bbc966c"
      },
      "outputs": [
        {
          "data": {
            "image/png": "[encoded data removed]",
            "text/plain": [
              "<Figure size 800x500 with 1 Axes>"
            ]
          },
          "metadata": {},
          "output_type": "display_data"
        }
      ],
      "source": [
        "from sklearn.metrics import precision_recall_curve\n",
        "import matplotlib.pyplot as plt\n",
        "\n",
        "# 양성 클래스 확률 예측\n",
        "y_scores = best_rf.predict_proba(X_test)[:, 1]\n",
        "\n",
        "# precision, recall, threshold 계산\n",
        "precisions, recalls, thresholds = precision_recall_curve(y_test, y_scores)\n",
        "\n",
        "# Precision vs. Recall by Threshold plot\n",
        "plt.figure(figsize=(8, 5))\n",
        "plt.plot(thresholds, precisions[:-1], label=\"Precision\", color=\"b\")\n",
        "plt.plot(thresholds, recalls[:-1], label=\"Recall\", color=\"g\")\n",
        "plt.xlabel(\"Threshold\")\n",
        "plt.ylabel(\"Score\")\n",
        "plt.title(\"Precision vs. Recall by Threshold\")\n",
        "plt.legend()\n",
        "plt.grid()\n",
        "plt.show()"
      ]
    },
    {
      "cell_type": "markdown",
      "id": "22718e02",
      "metadata": {
        "id": "22718e02"
      },
      "source": [
        "🎯 Precision이 중요한 경우\n",
        "예측한 “결제할 사람” 중 실제 결제자가 정확하게 맞아야 하는 경우\n",
        "\n",
        "예: 타겟 오퍼 비용이 비싸다거나, 상담 리소스가 한정되어 잘못 추천되면 낭비되는 경우\n",
        "\n",
        "🎯 Recall이 중요한 경우\n",
        "실제 결제할 사람을 최대한 많이 잡아야 하는 경우\n",
        "\n",
        "예: 전환율 자체를 끌어올리는 게 더 중요하거나, 놓치는 고객이 기회비용이 크다고 판단될 때"
      ]
    },
    {
      "cell_type": "markdown",
      "id": "18a0c02f",
      "metadata": {
        "id": "18a0c02f"
      },
      "source": [
        "- Precision 백화점 (VIP 쿠폰)\n",
        "\n",
        "- Recall 테무 알리 (전 회원 쿠폰)"
      ]
    },
    {
      "cell_type": "markdown",
      "id": "a214c5d9",
      "metadata": {
        "id": "a214c5d9"
      },
      "source": [
        "- 어차피 하고 있는 프로모션이니깐 해당 프로모션의 전환률을 높이자\n",
        "    - Recall 높이자"
      ]
    },
    {
      "cell_type": "code",
      "execution_count": 56,
      "id": "e88e6143",
      "metadata": {
        "colab": {
          "base_uri": "https://localhost:8080/"
        },
        "id": "e88e6143",
        "outputId": "336ca63f-e679-474c-905f-450a18630765"
      },
      "outputs": [
        {
          "name": "stdout",
          "output_type": "stream",
          "text": [
            "              precision    recall  f1-score   support\n",
            "\n",
            "         0.0       0.74      0.62      0.67       840\n",
            "         1.0       0.47      0.61      0.53       468\n",
            "\n",
            "    accuracy                           0.61      1308\n",
            "   macro avg       0.60      0.61      0.60      1308\n",
            "weighted avg       0.64      0.61      0.62      1308\n",
            "\n"
          ]
        }
      ],
      "source": [
        "# 확률 예측\n",
        "y_proba = best_rf.predict_proba(X_test)[:, 1]\n",
        "\n",
        "# Threshold = 0.41로 조정\n",
        "y_pred_threshold = (y_proba >= 0.41).astype(int)\n",
        "\n",
        "# classification report 출력\n",
        "print(classification_report(y_test, y_pred_threshold, digits=2))"
      ]
    },
    {
      "cell_type": "markdown",
      "id": "5d8b6dd2",
      "metadata": {
        "id": "5d8b6dd2"
      },
      "source": [
        "## XGB"
      ]
    },
    {
      "cell_type": "code",
      "execution_count": 57,
      "id": "93c3ed41",
      "metadata": {
        "colab": {
          "base_uri": "https://localhost:8080/"
        },
        "id": "93c3ed41",
        "outputId": "e809ca07-133f-4f4e-bf42-da0d0852f3e4"
      },
      "outputs": [
        {
          "name": "stdout",
          "output_type": "stream",
          "text": [
            "              precision    recall  f1-score   support\n",
            "\n",
            "         0.0       0.70      0.77      0.73       840\n",
            "         1.0       0.49      0.39      0.44       468\n",
            "\n",
            "    accuracy                           0.64      1308\n",
            "   macro avg       0.59      0.58      0.58      1308\n",
            "weighted avg       0.62      0.64      0.63      1308\n",
            "\n"
          ]
        }
      ],
      "source": [
        "from xgboost import XGBClassifier\n",
        "\n",
        "# XGBoost 모델 정의\n",
        "xgb_sm = XGBClassifier(\n",
        "    use_label_encoder=False,\n",
        "    eval_metric=\"logloss\",\n",
        "    random_state=42\n",
        ")\n",
        "\n",
        "# SMOTE로 오버샘플링된 데이터로 학습\n",
        "xgb_sm.fit(X_res, y_res)\n",
        "\n",
        "# 테스트 데이터에 대해 예측 및 성능 평가\n",
        "y_pred_xgb = xgb_sm.predict(X_test)\n",
        "print(classification_report(y_test, y_pred_xgb))"
      ]
    },
    {
      "cell_type": "markdown",
      "id": "e58334c0",
      "metadata": {
        "id": "e58334c0"
      },
      "source": [
        "### 하이퍼파라미터 튜닝"
      ]
    },
    {
      "cell_type": "markdown",
      "id": "ff5e6a1b",
      "metadata": {
        "id": "ff5e6a1b"
      },
      "source": [
        "```python\n",
        "# 튜닝할 파라미터 그리드 정의\n",
        "param_grid = {\n",
        "    \"n_estimators\": [100, 200],\n",
        "    \"max_depth\": [3, 5, 7],\n",
        "    \"learning_rate\": [0.01, 0.1],\n",
        "    \"subsample\": [0.8, 1.0],\n",
        "    \"colsample_bytree\": [0.8, 1.0]\n",
        "}\n",
        "\n",
        "# XGBClassifier 객체 생성\n",
        "xgb = XGBClassifier(\n",
        "    use_label_encoder=False,\n",
        "    eval_metric=\"logloss\",\n",
        "    random_state=42\n",
        ")\n",
        "\n",
        "# GridSearchCV 객체 생성\n",
        "grid_search = GridSearchCV(\n",
        "    estimator=xgb,\n",
        "    param_grid=param_grid,\n",
        "    scoring=\"roc_auc\",\n",
        "    cv=3,\n",
        "    verbose=2,\n",
        "    n_jobs=-1\n",
        ")\n",
        "\n",
        "# SMOTE 적용된 데이터로 학습\n",
        "grid_search.fit(X_res, y_res)\n",
        "\n",
        "# 최적 모델 및 파라미터 출력\n",
        "best_xgb = grid_search.best_estimator_\n",
        "print(\"✅ 최적 하이퍼파라미터:\")\n",
        "print(grid_search.best_params_)\n",
        "```"
      ]
    },
    {
      "cell_type": "markdown",
      "id": "fba992a3",
      "metadata": {
        "id": "fba992a3"
      },
      "source": [
        "```\n",
        "✅ 최적 하이퍼파라미터:\n",
        "{'colsample_bytree': 1.0, 'learning_rate': 0.1, 'max_depth': 7, 'n_estimators': 200, 'subsample': 0.8}\n",
        "```"
      ]
    },
    {
      "cell_type": "markdown",
      "id": "4c68c929",
      "metadata": {
        "id": "4c68c929"
      },
      "source": [
        "```python\n",
        "# 튜닝할 파라미터 그리드 정의\n",
        "param_grid = {\n",
        "    \"n_estimators\": [200, 300, 400],\n",
        "    \"max_depth\": [7, 9, 11],\n",
        "    \"learning_rate\": [0.1, 0.2],\n",
        "    \"subsample\": [0.6, 0,7, 0.8],\n",
        "    \"colsample_bytree\": [1.0]\n",
        "}\n",
        "\n",
        "# XGBClassifier 객체 생성\n",
        "xgb = XGBClassifier(\n",
        "    use_label_encoder=False,\n",
        "    eval_metric=\"logloss\",\n",
        "    random_state=42\n",
        ")\n",
        "\n",
        "# GridSearchCV 객체 생성\n",
        "grid_search = GridSearchCV(\n",
        "    estimator=xgb,\n",
        "    param_grid=param_grid,\n",
        "    scoring=\"roc_auc\",\n",
        "    cv=3,\n",
        "    verbose=2,\n",
        "    n_jobs=-1\n",
        ")\n",
        "\n",
        "# SMOTE 적용된 데이터로 학습\n",
        "grid_search.fit(X_res, y_res)\n",
        "\n",
        "# 최적 모델 및 파라미터 출력\n",
        "best_xgb = grid_search.best_estimator_\n",
        "print(\"✅ 최적 하이퍼파라미터:\")\n",
        "print(grid_search.best_params_)\n",
        "```"
      ]
    },
    {
      "cell_type": "markdown",
      "id": "1e00a74f",
      "metadata": {
        "id": "1e00a74f"
      },
      "source": [
        "```\n",
        "✅ 최적 하이퍼파라미터:\n",
        "{'colsample_bytree': 1.0, 'learning_rate': 0.1, 'max_depth': 7, 'n_estimators': 200, 'subsample': 0.8}\n",
        "```"
      ]
    },
    {
      "cell_type": "markdown",
      "id": "973df12d",
      "metadata": {
        "id": "973df12d"
      },
      "source": [
        "```python\n",
        "# 튜닝할 파라미터 그리드 정의\n",
        "param_grid = {\n",
        "    \"n_estimators\": [200],\n",
        "    \"max_depth\": [7],\n",
        "    \"learning_rate\": [0.1],\n",
        "    \"subsample\": [0.8, 0.9, 1.0],\n",
        "    \"colsample_bytree\": [1.0]\n",
        "}\n",
        "\n",
        "# XGBClassifier 객체 생성\n",
        "xgb = XGBClassifier(\n",
        "    use_label_encoder=False,\n",
        "    eval_metric=\"logloss\",\n",
        "    random_state=42\n",
        ")\n",
        "\n",
        "# GridSearchCV 객체 생성\n",
        "grid_search = GridSearchCV(\n",
        "    estimator=xgb,\n",
        "    param_grid=param_grid,\n",
        "    scoring=\"roc_auc\",\n",
        "    cv=3,\n",
        "    verbose=2,\n",
        "    n_jobs=-1\n",
        ")\n",
        "\n",
        "# SMOTE 적용된 데이터로 학습\n",
        "grid_search.fit(X_res, y_res)\n",
        "\n",
        "# 최적 모델 및 파라미터 출력\n",
        "best_xgb = grid_search.best_estimator_\n",
        "print(\"✅ 최적 하이퍼파라미터:\")\n",
        "print(grid_search.best_params_)\n",
        "```"
      ]
    },
    {
      "cell_type": "markdown",
      "id": "17abbb23",
      "metadata": {
        "id": "17abbb23"
      },
      "source": [
        "```\n",
        "✅ 최적 하이퍼파라미터:\n",
        "{'colsample_bytree': 1.0, 'learning_rate': 0.1, 'max_depth': 7, 'n_estimators': 200, 'subsample': 0.8}\n",
        "```"
      ]
    },
    {
      "cell_type": "markdown",
      "id": "46bc7d0a",
      "metadata": {
        "id": "46bc7d0a"
      },
      "source": [
        "### best_xgb"
      ]
    },
    {
      "cell_type": "code",
      "execution_count": 58,
      "id": "b4e6a0c8",
      "metadata": {
        "colab": {
          "base_uri": "https://localhost:8080/"
        },
        "id": "b4e6a0c8",
        "outputId": "92839300-d75d-4989-d60d-cf56a1dcbb83"
      },
      "outputs": [
        {
          "name": "stdout",
          "output_type": "stream",
          "text": [
            "Fitting 3 folds for each of 1 candidates, totalling 3 fits\n",
            "✅ 최적 하이퍼파라미터:\n",
            "{'colsample_bytree': 1.0, 'learning_rate': 0.1, 'max_depth': 7, 'n_estimators': 200, 'subsample': 0.8}\n"
          ]
        }
      ],
      "source": [
        "# 튜닝할 파라미터 그리드 정의\n",
        "param_grid = {\n",
        "    \"n_estimators\": [200],\n",
        "    \"max_depth\": [7],\n",
        "    \"learning_rate\": [0.1],\n",
        "    \"subsample\": [0.8],\n",
        "    \"colsample_bytree\": [1.0]\n",
        "}\n",
        "\n",
        "# XGBClassifier 객체 생성\n",
        "xgb = XGBClassifier(\n",
        "    use_label_encoder=False,\n",
        "    eval_metric=\"logloss\",\n",
        "    random_state=42\n",
        ")\n",
        "\n",
        "# GridSearchCV 객체 생성\n",
        "grid_search = GridSearchCV(\n",
        "    estimator=xgb,\n",
        "    param_grid=param_grid,\n",
        "    scoring=\"roc_auc\",\n",
        "    cv=3,\n",
        "    verbose=2,\n",
        "    n_jobs=-1\n",
        ")\n",
        "\n",
        "# SMOTE 적용된 데이터로 학습\n",
        "grid_search.fit(X_res, y_res)\n",
        "\n",
        "# 최적 모델 및 파라미터 출력\n",
        "best_xgb = grid_search.best_estimator_\n",
        "print(\"✅ 최적 하이퍼파라미터:\")\n",
        "print(grid_search.best_params_)"
      ]
    },
    {
      "cell_type": "markdown",
      "id": "5355ddc9",
      "metadata": {
        "id": "5355ddc9"
      },
      "source": [
        "### 고급 파라미터 추가 튜닝"
      ]
    },
    {
      "cell_type": "markdown",
      "id": "7664c2f2",
      "metadata": {
        "id": "7664c2f2"
      },
      "source": [
        "```python\n",
        "param_grid_refined = {\n",
        "    \"min_child_weight\": [1, 5, 10],\n",
        "    \"gamma\": [0, 1, 5],\n",
        "    \"reg_alpha\": [0, 0.1, 1],\n",
        "    \"reg_lambda\": [1, 5, 10]\n",
        "}\n",
        "\n",
        "xgb_refined = XGBClassifier(\n",
        "    use_label_encoder=False,\n",
        "    eval_metric=\"logloss\",\n",
        "    random_state=42,\n",
        "    colsample_bytree=1.0,\n",
        "    learning_rate=0.1,\n",
        "    max_depth=7,\n",
        "    n_estimators=200,\n",
        "    subsample=0.8\n",
        ")\n",
        "\n",
        "grid_search_refined = GridSearchCV(\n",
        "    estimator=xgb_refined,\n",
        "    param_grid=param_grid_refined,\n",
        "    scoring=\"roc_auc\",\n",
        "    cv=3,\n",
        "    verbose=2,\n",
        "    n_jobs=-1\n",
        ")\n",
        "\n",
        "grid_search_refined.fit(X_res, y_res)\n",
        "\n",
        "best_xgb_refined = grid_search_refined.best_estimator_\n",
        "print(\"🎯 정규화 파라미터 포함 최적 조합:\")\n",
        "print(grid_search_refined.best_params_)\n",
        "```"
      ]
    },
    {
      "cell_type": "markdown",
      "id": "093af9ac",
      "metadata": {
        "id": "093af9ac"
      },
      "source": [
        "```\n",
        "🎯 정규화 파라미터 포함 최적 조합:\n",
        "{'gamma': 1, 'min_child_weight': 1, 'reg_alpha': 0, 'reg_lambda': 1}\n",
        "```"
      ]
    },
    {
      "cell_type": "code",
      "execution_count": 59,
      "id": "3d998647",
      "metadata": {
        "colab": {
          "base_uri": "https://localhost:8080/"
        },
        "id": "3d998647",
        "outputId": "818069f9-cbdc-43d4-c7b7-85273a7d16ae"
      },
      "outputs": [
        {
          "name": "stdout",
          "output_type": "stream",
          "text": [
            "Fitting 3 folds for each of 1 candidates, totalling 3 fits\n",
            "🎯 정규화 파라미터 포함 최적 조합:\n",
            "{'gamma': 1, 'min_child_weight': 1, 'reg_alpha': 0, 'reg_lambda': 1}\n"
          ]
        }
      ],
      "source": [
        "param_grid_refined = {\n",
        "    \"min_child_weight\": [1],\n",
        "    \"gamma\": [1],\n",
        "    \"reg_alpha\": [0],\n",
        "    \"reg_lambda\": [1]\n",
        "}\n",
        "\n",
        "xgb_refined = XGBClassifier(\n",
        "    use_label_encoder=False,\n",
        "    eval_metric=\"logloss\",\n",
        "    random_state=42,\n",
        "    colsample_bytree=1.0,\n",
        "    learning_rate=0.1,\n",
        "    max_depth=7,\n",
        "    n_estimators=200,\n",
        "    subsample=0.8\n",
        ")\n",
        "\n",
        "grid_search_refined = GridSearchCV(\n",
        "    estimator=xgb_refined,\n",
        "    param_grid=param_grid_refined,\n",
        "    scoring=\"roc_auc\",\n",
        "    cv=3,\n",
        "    verbose=2,\n",
        "    n_jobs=-1\n",
        ")\n",
        "\n",
        "grid_search_refined.fit(X_res, y_res)\n",
        "\n",
        "best_xgb_refined = grid_search_refined.best_estimator_\n",
        "print(\"🎯 정규화 파라미터 포함 최적 조합:\")\n",
        "print(grid_search_refined.best_params_)"
      ]
    },
    {
      "cell_type": "code",
      "execution_count": 60,
      "id": "85d35f3b",
      "metadata": {
        "colab": {
          "base_uri": "https://localhost:8080/"
        },
        "id": "85d35f3b",
        "outputId": "ffa904cc-ae85-4941-ae5d-0dddb809c086"
      },
      "outputs": [
        {
          "name": "stdout",
          "output_type": "stream",
          "text": [
            "              precision    recall  f1-score   support\n",
            "\n",
            "         0.0       0.71      0.78      0.74       840\n",
            "         1.0       0.51      0.42      0.46       468\n",
            "\n",
            "    accuracy                           0.65      1308\n",
            "   macro avg       0.61      0.60      0.60      1308\n",
            "weighted avg       0.64      0.65      0.64      1308\n",
            "\n"
          ]
        }
      ],
      "source": [
        "# 테스트셋에 대해 예측 수행\n",
        "y_pred = best_xgb_refined.predict(X_test)\n",
        "\n",
        "# classification report 출력\n",
        "print(classification_report(y_test, y_pred, digits=2))"
      ]
    },
    {
      "cell_type": "markdown",
      "id": "50bd489a",
      "metadata": {
        "id": "50bd489a"
      },
      "source": [
        "## RandomForest + XGBoost soft voting"
      ]
    },
    {
      "cell_type": "code",
      "execution_count": 61,
      "id": "e764078d",
      "metadata": {
        "colab": {
          "base_uri": "https://localhost:8080/"
        },
        "id": "e764078d",
        "outputId": "545d0c5e-9a48-4471-8d3c-4e9be2d64a9f"
      },
      "outputs": [
        {
          "name": "stdout",
          "output_type": "stream",
          "text": [
            "              precision    recall  f1-score   support\n",
            "\n",
            "         0.0       0.70      0.80      0.75       840\n",
            "         1.0       0.51      0.37      0.43       468\n",
            "\n",
            "    accuracy                           0.65      1308\n",
            "   macro avg       0.60      0.59      0.59      1308\n",
            "weighted avg       0.63      0.65      0.63      1308\n",
            "\n"
          ]
        }
      ],
      "source": [
        "from sklearn.ensemble import VotingClassifier\n",
        "from xgboost import XGBClassifier\n",
        "\n",
        "# 데이터 분할\n",
        "X_train, X_test, y_train, y_test = train_test_split(X, y, test_size=0.2, stratify=y, random_state=42)\n",
        "\n",
        "# Soft Voting Classifier 생성\n",
        "voting_clf = VotingClassifier(\n",
        "    estimators=[(\"rf\", best_rf), (\"xgb\", best_xgb_refined)],\n",
        "    voting=\"soft\"\n",
        ")\n",
        "\n",
        "# 학습\n",
        "voting_clf.fit(X_train, y_train)\n",
        "\n",
        "# 예측 및 평가\n",
        "y_pred = voting_clf.predict(X_test)\n",
        "print(classification_report(y_test, y_pred))"
      ]
    },
    {
      "cell_type": "markdown",
      "id": "e90af21c",
      "metadata": {
        "id": "e90af21c"
      },
      "source": [
        "### best_rf와 비교 (모델 확정 best_rf)"
      ]
    },
    {
      "cell_type": "markdown",
      "id": "816f96f7",
      "metadata": {
        "id": "816f96f7"
      },
      "source": [
        "```\n",
        "              precision    recall  f1-score   support\n",
        "\n",
        "         0.0       0.74      0.62      0.67       840\n",
        "         1.0       0.47      0.61      0.53       468\n",
        "\n",
        "    accuracy                           0.61      1308\n",
        "   macro avg       0.60      0.61      0.60      1308\n",
        "weighted avg       0.64      0.61      0.62      1308\n",
        "```"
      ]
    },
    {
      "cell_type": "markdown",
      "id": "NNud_F3hf3fK",
      "metadata": {
        "id": "NNud_F3hf3fK"
      },
      "source": [
        "- best_rf 선택 이유\n",
        "    - 3일 무료체험 프로모션 (이미 진행 중)\n",
        "    - 데이터셋 (3일 무료체험 신청 이전의 행동 알 수 없음)\n",
        "    - 이미 진행 중인 프로모션 + 이전 행동 알 수 없음\n",
        "        - 진행 중인 프로모션 내에서 결제로의 전환률을 높이는 방향으로 모델 개선\n",
        "    \n",
        "- XGB, soft voting 기각 이유\n",
        "    - 정확도와 평균 성능은 약간 상승했지만\n",
        "    - 랜덤포레스트 모델에 비해 Recall보다는 Precision에 더 높은 수치를 보임\n",
        "    - 예측하고자 하는 방향성과 맞지 않음\n",
        "\n",
        "- Recall 중점(테무 알리 전 회원 쿠폰): 실제 결제할 사람을 최대한 많이 붙잡자!\n",
        "    - 어차피 하고 있는 프로모션이니 해당 프로모션 내에서 전환률을 높이는 것을 목적으로"
      ]
    }
  ],
  "metadata": {
    "colab": {
      "provenance": [],
      "toc_visible": true
    },
    "kernelspec": {
      "display_name": "codeit_env",
      "language": "python",
      "name": "python3"
    },
    "language_info": {
      "codemirror_mode": {
        "name": "ipython",
        "version": 3
      },
      "file_extension": ".py",
      "mimetype": "text/x-python",
      "name": "python",
      "nbconvert_exporter": "python",
      "pygments_lexer": "ipython3",
      "version": "3.12.9"
    }
  },
  "nbformat": 4,
  "nbformat_minor": 5
}
